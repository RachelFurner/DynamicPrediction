{
 "cells": [
  {
   "cell_type": "code",
   "execution_count": 1,
   "metadata": {},
   "outputs": [],
   "source": [
    "import torch\n",
    "import torch.nn as nn\n",
    "\n",
    "import matplotlib.pyplot as plt\n",
    "\n",
    "import xarray as xr"
   ]
  },
  {
   "cell_type": "code",
   "execution_count": 2,
   "metadata": {},
   "outputs": [
    {
     "data": {
      "text/plain": [
       "<xarray.Dataset>\n",
       "Dimensions:  (T: 11, X: 11, Xp1: 12, Y: 78, Yp1: 79, Z: 42, Zl: 42)\n",
       "Coordinates:\n",
       "  * T        (T) float64 0.0 3.11e+07 6.221e+07 ... 2.488e+08 2.799e+08 3.11e+08\n",
       "  * Xp1      (Xp1) float64 0.0 2.0 4.0 6.0 8.0 10.0 ... 14.0 16.0 18.0 20.0 22.0\n",
       "  * Y        (Y) float64 -59.5 -58.48 -57.44 -56.36 ... 58.48 59.5 60.5 61.5\n",
       "  * Z        (Z) float64 -5.0 -15.05 -25.25 ... -4.375e+03 -4.625e+03 -4.875e+03\n",
       "  * X        (X) float64 1.0 3.0 5.0 7.0 9.0 11.0 13.0 15.0 17.0 19.0 21.0\n",
       "  * Yp1      (Yp1) float64 -60.0 -59.0 -57.97 -56.91 ... 59.0 60.0 61.0 62.0\n",
       "  * Zl       (Zl) float64 0.0 -10.0 -20.1 -30.4 ... -4.25e+03 -4.5e+03 -4.75e+03\n",
       "Data variables:\n",
       "    iter     (T) int32 ...\n",
       "    U        (T, Z, Y, Xp1) float32 ...\n",
       "    V        (T, Z, Yp1, X) float32 ...\n",
       "    Temp     (T, Z, Y, X) float32 ...\n",
       "    S        (T, Z, Y, X) float32 ...\n",
       "    Eta      (T, Y, X) float32 ...\n",
       "    W        (T, Zl, Y, X) float32 ...\n",
       "Attributes:\n",
       "    the_run_name:    2deg\n",
       "    MITgcm_version:  checkpoint67f\n",
       "    build_user:      rachelfurner\n",
       "    build_host:      Rachels-MBP-2.nerc-bas.ac.uk\n",
       "    build_date:      Mon 17 Dec 2018 15:33:40 GMT\n",
       "    MITgcm_URL:      http://mitgcm.org\n",
       "    MITgcm_tag_id:   \n",
       "    MITgcm_mnc_ver:  0.9\n",
       "    tile_number:     1\n",
       "    bi:              1\n",
       "    bj:              1\n",
       "    sNx:             11\n",
       "    sNy:             78\n",
       "    OLx:             4\n",
       "    OLy:             4\n",
       "    nSx:             1\n",
       "    nSy:             1\n",
       "    nPx:             1\n",
       "    nPy:             1\n",
       "    Nx:              11\n",
       "    Ny:              78\n",
       "    Nr:              42"
      ]
     },
     "execution_count": 2,
     "metadata": {},
     "output_type": "execute_result"
    }
   ],
   "source": [
    "data_xr = xr.open_dataset('state.0000000000.t001.nc')\n",
    "data_xr\n",
    "# important: dimensions are\n",
    "# (batch_size, channels, height, width)"
   ]
  },
  {
   "cell_type": "code",
   "execution_count": 103,
   "metadata": {},
   "outputs": [],
   "source": [
    "data = torch.FloatTensor(data_xr['Temp'].values)[:,2:,:-4,:-2] # filtering out land?"
   ]
  },
  {
   "cell_type": "code",
   "execution_count": 104,
   "metadata": {},
   "outputs": [
    {
     "data": {
      "text/plain": [
       "(293040, torch.Size([11, 40, 74, 9]))"
      ]
     },
     "execution_count": 104,
     "metadata": {},
     "output_type": "execute_result"
    }
   ],
   "source": [
    "torch.numel(data), data.shape"
   ]
  },
  {
   "cell_type": "code",
   "execution_count": 105,
   "metadata": {},
   "outputs": [],
   "source": [
    "down = nn.Sequential(\n",
    "    nn.Conv2d(in_channels=data.shape[1], out_channels=32, kernel_size=(5, 3)),\n",
    "#     nn.MaxPool2d(2),\n",
    "    nn.ReLU(),\n",
    "    nn.Conv2d(32, 16, (5, 2)),\n",
    "    nn.MaxPool2d(2),\n",
    "    nn.ReLU(),\n",
    "    nn.Conv2d(16, 8, (5, 2), stride=(1,1)))"
   ]
  },
  {
   "cell_type": "code",
   "execution_count": 106,
   "metadata": {},
   "outputs": [
    {
     "name": "stdout",
     "output_type": "stream",
     "text": [
      "torch.Size([11, 40, 74, 9]) -> torch.Size([11, 8, 29, 2])\n"
     ]
    }
   ],
   "source": [
    "print(data.shape, \"->\", down(data).shape)"
   ]
  },
  {
   "cell_type": "code",
   "execution_count": 107,
   "metadata": {},
   "outputs": [
    {
     "data": {
      "text/plain": [
       "25656"
      ]
     },
     "execution_count": 107,
     "metadata": {},
     "output_type": "execute_result"
    }
   ],
   "source": [
    "sum([torch.numel(a) for a in down.parameters()])\n"
   ]
  },
  {
   "cell_type": "code",
   "execution_count": 108,
   "metadata": {},
   "outputs": [],
   "source": [
    "z = down(data)"
   ]
  },
  {
   "cell_type": "code",
   "execution_count": 109,
   "metadata": {},
   "outputs": [
    {
     "data": {
      "text/plain": [
       "torch.Size([11, 40, 74, 9])"
      ]
     },
     "execution_count": 109,
     "metadata": {},
     "output_type": "execute_result"
    }
   ],
   "source": [
    "up = nn.Sequential(\n",
    "    nn.ConvTranspose2d(8, 16, (5,2), stride=(1,1)),\n",
    "    nn.ReLU(),\n",
    "    nn.Upsample(scale_factor=2),\n",
    "    nn.ConvTranspose2d(16, 32, (5, 2)),\n",
    "    nn.ReLU(),\n",
    "    nn.ConvTranspose2d(32, data.shape[1], (5, 3)))\n",
    "\n",
    "up(z).shape"
   ]
  },
  {
   "cell_type": "code",
   "execution_count": 110,
   "metadata": {},
   "outputs": [
    {
     "data": {
      "image/png": "[encoded data removed]",
      "text/plain": [
       "<Figure size 432x288 with 2 Axes>"
      ]
     },
     "metadata": {},
     "output_type": "display_data"
    }
   ],
   "source": [
    "plt.imshow(data[0][0].T);\n",
    "plt.colorbar();"
   ]
  },
  {
   "cell_type": "code",
   "execution_count": 111,
   "metadata": {},
   "outputs": [],
   "source": [
    "def transform(X):\n",
    "    return (2.0 + X).log() - 2.0\n",
    "\n",
    "def inverse_transform(X):\n",
    "    return (X + 2.0).exp() - 2.0\n",
    "\n",
    "LAND = ((data == 0).float().mean(0) == 1.0)"
   ]
  },
  {
   "cell_type": "code",
   "execution_count": 112,
   "metadata": {},
   "outputs": [],
   "source": [
    "X_t = transform(data)\n",
    "\n",
    "joint_model = nn.Sequential(down, up)\n",
    "losses = []\n",
    "opt = torch.optim.Adam(joint_model.parameters())"
   ]
  },
  {
   "cell_type": "code",
   "execution_count": 113,
   "metadata": {},
   "outputs": [
    {
     "data": {
      "text/plain": [
       "51344"
      ]
     },
     "execution_count": 113,
     "metadata": {},
     "output_type": "execute_result"
    }
   ],
   "source": [
    "sum([torch.numel(p) for p in joint_model.parameters()])"
   ]
  },
  {
   "cell_type": "code",
   "execution_count": 114,
   "metadata": {},
   "outputs": [
    {
     "data": {
      "image/png": "[encoded data removed]",
      "text/plain": [
       "<Figure size 432x288 with 2 Axes>"
      ]
     },
     "metadata": {},
     "output_type": "display_data"
    }
   ],
   "source": [
    "with torch.no_grad():\n",
    "    plt.imshow(down(X_t)[0][0].T);\n",
    "    plt.colorbar();"
   ]
  },
  {
   "cell_type": "code",
   "execution_count": 115,
   "metadata": {},
   "outputs": [
    {
     "data": {
      "image/png": "[encoded data removed]",
      "text/plain": [
       "<Figure size 432x288 with 2 Axes>"
      ]
     },
     "metadata": {},
     "output_type": "display_data"
    }
   ],
   "source": [
    "with torch.no_grad():\n",
    "    plt.imshow(joint_model(X_t)[0][0].T);\n",
    "    plt.colorbar();"
   ]
  },
  {
   "cell_type": "code",
   "execution_count": 128,
   "metadata": {},
   "outputs": [],
   "source": [
    "\n",
    "for _ in range(100):\n",
    "    opt.zero_grad()\n",
    "    loss = (joint_model(X_t[:-1]) - X_t[1:]).pow(2).mean()\n",
    "    loss.backward()\n",
    "    opt.step()\n",
    "    losses.append(loss.item())\n"
   ]
  },
  {
   "cell_type": "code",
   "execution_count": 129,
   "metadata": {},
   "outputs": [
    {
     "data": {
      "text/plain": [
       "0.0008864242699928582"
      ]
     },
     "execution_count": 129,
     "metadata": {},
     "output_type": "execute_result"
    }
   ],
   "source": [
    "losses[-1]"
   ]
  },
  {
   "cell_type": "code",
   "execution_count": 130,
   "metadata": {},
   "outputs": [
    {
     "data": {
      "text/plain": [
       "[<matplotlib.lines.Line2D at 0x12d56b278>]"
      ]
     },
     "execution_count": 130,
     "metadata": {},
     "output_type": "execute_result"
    },
    {
     "data": {
      "image/png": "[encoded data removed]",
      "text/plain": [
       "<Figure size 432x288 with 1 Axes>"
      ]
     },
     "metadata": {},
     "output_type": "display_data"
    }
   ],
   "source": [
    "plt.plot(losses)"
   ]
  },
  {
   "cell_type": "code",
   "execution_count": 135,
   "metadata": {},
   "outputs": [
    {
     "data": {
      "image/png": "[encoded data removed]",
      "text/plain": [
       "<Figure size 1080x216 with 2 Axes>"
      ]
     },
     "metadata": {},
     "output_type": "display_data"
    },
    {
     "data": {
      "image/png": "[encoded data removed]",
      "text/plain": [
       "<Figure size 1080x216 with 2 Axes>"
      ]
     },
     "metadata": {},
     "output_type": "display_data"
    }
   ],
   "source": [
    "ix = 0\n",
    "depth = 0\n",
    "\n",
    "plt.figure(figsize=(15,3))\n",
    "plt.imshow(data[ix+1,depth].T)\n",
    "plt.colorbar();\n",
    "\n",
    "plt.figure(figsize=(15,3))\n",
    "with torch.no_grad():\n",
    "    pred = inverse_transform(joint_model(X_t)[ix][depth].T)\n",
    "    pred[LAND[depth].T] = 0.0\n",
    "    plt.imshow(pred);\n",
    "    plt.colorbar();"
   ]
  },
  {
   "cell_type": "code",
   "execution_count": 136,
   "metadata": {},
   "outputs": [
    {
     "data": {
      "image/png": "[encoded data removed]",
      "text/plain": [
       "<Figure size 1080x216 with 2 Axes>"
      ]
     },
     "metadata": {},
     "output_type": "display_data"
    }
   ],
   "source": [
    "plt.figure(figsize=(15,3))\n",
    "with torch.no_grad():\n",
    "    residual = joint_model(X_t)[ix][depth].T - X_t[ix+1][depth].T\n",
    "    residual[LAND[depth].T] = 0.0\n",
    "    plt.imshow(residual.abs(), vmin=0, vmax=0.1);\n",
    "    plt.colorbar();"
   ]
  },
  {
   "cell_type": "code",
   "execution_count": 137,
   "metadata": {},
   "outputs": [
    {
     "data": {
      "image/png": "[encoded data removed]",
      "text/plain": [
       "<Figure size 1080x216 with 2 Axes>"
      ]
     },
     "metadata": {},
     "output_type": "display_data"
    }
   ],
   "source": [
    "plt.figure(figsize=(15,3))\n",
    "with torch.no_grad():\n",
    "    residual = X_t[ix][depth].T - X_t[ix+1][depth].T\n",
    "    plt.imshow(residual.abs(), vmin=0, vmax=.1);\n",
    "    plt.colorbar();"
   ]
  },
  {
   "cell_type": "code",
   "execution_count": null,
   "metadata": {},
   "outputs": [],
   "source": []
  },
  {
   "cell_type": "code",
   "execution_count": null,
   "metadata": {},
   "outputs": [],
   "source": []
  }
 ],
 "metadata": {
  "kernelspec": {
   "display_name": "Python 3",
   "language": "python",
   "name": "python3"
  },
  "language_info": {
   "codemirror_mode": {
    "name": "ipython",
    "version": 3
   },
   "file_extension": ".py",
   "mimetype": "text/x-python",
   "name": "python",
   "nbconvert_exporter": "python",
   "pygments_lexer": "ipython3",
   "version": "3.6.8"
  }
 },
 "nbformat": 4,
 "nbformat_minor": 2
}
