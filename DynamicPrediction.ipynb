# Script to try and dynamicall time step an ocean model with ML
# Written by Rachel Furner, April 2019
# Work with colleagues at BAS and the ATI
