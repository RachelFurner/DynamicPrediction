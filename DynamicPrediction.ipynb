{
 "cells": [
  {
   "cell_type": "markdown",
   "metadata": {},
   "source": [
    "# Script to predict dynamic time stepping of an ocean model\n",
    "\n",
    "Written by Rachel Furner, April 2019.\n",
    "\n",
    "Collaborative work with colleagues at BAS, and the ATI\n",
    "\n"
   ]
  },
  {
   "cell_type": "markdown",
   "metadata": {},
   "source": [
    "1. Read in the data\n",
    "2. Define input data and output data.\n",
    "3. Split into test and train data.\n",
    "4. Train the network\n",
    "5. Run predictions on test data and assess."
   ]
  },
  {
   "cell_type": "code",
   "execution_count": 102,
   "metadata": {},
   "outputs": [
    {
     "ename": "ModuleNotFoundError",
     "evalue": "No module named 'keras'",
     "output_type": "error",
     "traceback": [
      "\u001b[0;31m---------------------------------------------------------------------------\u001b[0m",
      "\u001b[0;31mModuleNotFoundError\u001b[0m                       Traceback (most recent call last)",
      "\u001b[0;32m<ipython-input-102-5bdea5f134c5>\u001b[0m in \u001b[0;36m<module>\u001b[0;34m\u001b[0m\n\u001b[1;32m     14\u001b[0m \u001b[0;31m#import gpflow\u001b[0m\u001b[0;34m\u001b[0m\u001b[0;34m\u001b[0m\u001b[0;34m\u001b[0m\u001b[0m\n\u001b[1;32m     15\u001b[0m \u001b[0;32mfrom\u001b[0m \u001b[0mgpflow\u001b[0m\u001b[0;34m.\u001b[0m\u001b[0mkernels\u001b[0m \u001b[0;32mimport\u001b[0m \u001b[0mRBF\u001b[0m\u001b[0;34m,\u001b[0m \u001b[0mPeriodic\u001b[0m\u001b[0;34m\u001b[0m\u001b[0;34m\u001b[0m\u001b[0m\n\u001b[0;32m---> 16\u001b[0;31m \u001b[0;32mfrom\u001b[0m \u001b[0mkeras\u001b[0m\u001b[0;34m.\u001b[0m\u001b[0mmodels\u001b[0m \u001b[0;32mimport\u001b[0m \u001b[0mSequential\u001b[0m\u001b[0;34m\u001b[0m\u001b[0;34m\u001b[0m\u001b[0m\n\u001b[0m\u001b[1;32m     17\u001b[0m \u001b[0;34m\u001b[0m\u001b[0m\n\u001b[1;32m     18\u001b[0m \u001b[0mmodel\u001b[0m \u001b[0;34m=\u001b[0m \u001b[0mSequential\u001b[0m\u001b[0;34m(\u001b[0m\u001b[0;34m)\u001b[0m\u001b[0;34m\u001b[0m\u001b[0;34m\u001b[0m\u001b[0m\n",
      "\u001b[0;31mModuleNotFoundError\u001b[0m: No module named 'keras'"
     ]
    }
   ],
   "source": [
    "%matplotlib inline\n",
    "import xarray as xr\n",
    "import numpy as np\n",
    "import cartopy.crs as ccrs\n",
    "import matplotlib.pyplot as plt\n",
    "\n",
    "import pandas as pd\n",
    "from statsmodels.graphics.tsaplots import plot_acf, plot_pacf\n",
    "import datetime\n",
    "from os.path import join\n",
    "\n",
    "\n",
    "import tensorflow as tf\n",
    "#import gpflow\n",
    "from gpflow.kernels import RBF, Periodic\n",
    "from keras.models import Sequential\n",
    "\n",
    "model = Sequential()"
   ]
  },
  {
   "cell_type": "markdown",
   "metadata": {},
   "source": [
    "Define variables for this experiment"
   ]
  },
  {
   "cell_type": "code",
   "execution_count": 96,
   "metadata": {},
   "outputs": [],
   "source": [
    "StepSize = 10 #number of time slices over which to predict"
   ]
  },
  {
   "cell_type": "markdown",
   "metadata": {},
   "source": [
    "Read in data files as Xarrays"
   ]
  },
  {
   "cell_type": "code",
   "execution_count": 99,
   "metadata": {},
   "outputs": [
    {
     "data": {
      "text/plain": [
       "<xarray.Dataset>\n",
       "Dimensions:  (T: 2841, X: 11, Xp1: 12, Y: 78, Yp1: 79, Z: 42, Zl: 42)\n",
       "Coordinates:\n",
       "  * T        (T) float64 0.0 2.592e+06 5.184e+06 ... 7.359e+09 7.361e+09\n",
       "  * Xp1      (Xp1) float64 0.0 2.0 4.0 6.0 8.0 10.0 ... 14.0 16.0 18.0 20.0 22.0\n",
       "  * Y        (Y) float64 -59.5 -58.48 -57.44 -56.36 ... 58.48 59.5 60.5 61.5\n",
       "  * Z        (Z) float64 -5.0 -15.05 -25.25 ... -4.375e+03 -4.625e+03 -4.875e+03\n",
       "  * X        (X) float64 1.0 3.0 5.0 7.0 9.0 11.0 13.0 15.0 17.0 19.0 21.0\n",
       "  * Yp1      (Yp1) float64 -60.0 -59.0 -57.97 -56.91 ... 59.0 60.0 61.0 62.0\n",
       "  * Zl       (Zl) float64 0.0 -10.0 -20.1 -30.4 ... -4.25e+03 -4.5e+03 -4.75e+03\n",
       "Data variables:\n",
       "    iter     (T) int32 ...\n",
       "    U        (T, Z, Y, Xp1) float32 ...\n",
       "    V        (T, Z, Yp1, X) float32 ...\n",
       "    Temp     (T, Z, Y, X) float32 ...\n",
       "    S        (T, Z, Y, X) float32 ...\n",
       "    Eta      (T, Y, X) float32 ...\n",
       "    W        (T, Zl, Y, X) float32 ...\n",
       "Attributes:\n",
       "    the_run_name:    2deg\n",
       "    MITgcm_version:  checkpoint67g\n",
       "    build_user:      rfurner\n",
       "    build_host:      jasmin-sci1.ceda.ac.uk\n",
       "    build_date:      Mon Feb 18 16:24:31 GMT 2019\n",
       "    MITgcm_URL:      http://mitgcm.org\n",
       "    MITgcm_tag_id:   \n",
       "    MITgcm_mnc_ver:  0.9\n",
       "    tile_number:     1\n",
       "    bi:              1\n",
       "    bj:              1\n",
       "    sNx:             11\n",
       "    sNy:             78\n",
       "    OLx:             4\n",
       "    OLy:             4\n",
       "    nSx:             1\n",
       "    nSy:             1\n",
       "    nPx:             1\n",
       "    nPy:             1\n",
       "    Nx:              11\n",
       "    Ny:              78\n",
       "    Nr:              42"
      ]
     },
     "execution_count": 99,
     "metadata": {},
     "output_type": "execute_result"
    }
   ],
   "source": [
    "file = '/Users/rachelfurner/JasminData/DynPred/4500yr_Windx0.50/state.0000000000.t001.nc'\n",
    "ds1   = xr.open_dataset(file)\n",
    "ds1"
   ]
  },
  {
   "cell_type": "markdown",
   "metadata": {},
   "source": [
    "###### Define Input output pairs\n",
    "Inputs are full model field at t-SliceSize and t, outputs are full model fields at t+SliceSize.\n",
    "\n",
    "SliceSize currently variable - plan to test different values and see how well things work.\n",
    "\n",
    "Take sets of inputs and outputs from 30 steps apart, in bid to ensure some independance between samples.\n"
   ]
  },
  {
   "cell_type": "code",
   "execution_count": 98,
   "metadata": {},
   "outputs": [
    {
     "name": "stdout",
     "output_type": "stream",
     "text": [
      "(12, 5, 11, 78, 42)\n"
     ]
    },
    {
     "data": {
      "text/plain": [
       "<xarray.DataArray 'U' (T: 5, Z: 42, Y: 78, Xp1: 12)>\n",
       "[196560 values with dtype=float32]\n",
       "Coordinates:\n",
       "  * T        (T) float64 2.592e+07 1.037e+08 1.814e+08 2.592e+08 3.37e+08\n",
       "  * Xp1      (Xp1) float64 0.0 2.0 4.0 6.0 8.0 10.0 ... 14.0 16.0 18.0 20.0 22.0\n",
       "  * Y        (Y) float64 -59.5 -58.48 -57.44 -56.36 ... 58.48 59.5 60.5 61.5\n",
       "  * Z        (Z) float64 -5.0 -15.05 -25.25 ... -4.375e+03 -4.625e+03 -4.875e+03\n",
       "Attributes:\n",
       "    units:        m/s\n",
       "    coordinates:  XU YU RC iter"
      ]
     },
     "execution_count": 98,
     "metadata": {},
     "output_type": "execute_result"
    }
   ],
   "source": [
    "#for s in range(0, int(max(ds1.T.data)), 30):\n",
    "\n",
    "ds1_substepped_Tm1=ds1.isel(T=range(0,150,30))\n",
    "ds1_substepped_T  =ds1.isel(T=range(StepSize,150+StepSize,30))\n",
    "ds1_substepped_Tp1=ds1.isel(T=range(2*StepSize,150+2*StepSize,30))\n",
    "\n",
    "feature_IDs = ['U', 'V', 'Temp', 'S', 'Eta', 'W']\n",
    "Xtr=np.zeros((2*len(feature_IDs), ds1_substepped_T.T.size, ds1_substepped_T.X.size, ds1_substepped_T.Y.size, ds1_substepped_T.Z.size))\n",
    "print(Xtr.shape)\n",
    "ds1_substepped_T.U\n",
    "\n",
    "\n",
    "\n",
    "\n",
    "#fill the thing!!\n",
    "#Xtr[????]=????\n"
   ]
  },
  {
   "cell_type": "markdown",
   "metadata": {},
   "source": [
    "Normalise data"
   ]
  },
  {
   "cell_type": "code",
   "execution_count": null,
   "metadata": {},
   "outputs": [],
   "source": [
    "def normalise_data(train,test):\n",
    "    ### Normalise training and test data \n",
    "    train_mean, train_std = np.mean(train), np.std(train)\n",
    "    train = (train - train_mean) / train_std\n",
    "    test  = (test - train_mean) / train_std\n",
    "    return train, test"
   ]
  }
 ],
 "metadata": {
  "kernelspec": {
   "display_name": "Python 3",
   "language": "python",
   "name": "python3"
  },
  "language_info": {
   "codemirror_mode": {
    "name": "ipython",
    "version": 3
   },
   "file_extension": ".py",
   "mimetype": "text/x-python",
   "name": "python",
   "nbconvert_exporter": "python",
   "pygments_lexer": "ipython3",
   "version": "3.6.8"
  }
 },
 "nbformat": 4,
 "nbformat_minor": 2
}
