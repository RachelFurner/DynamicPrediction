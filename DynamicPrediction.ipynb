{
 "cells": [
  {
   "cell_type": "markdown",
   "metadata": {},
   "source": [
    "# Script to predict dynamic time stepping of an ocean model\n",
    "\n",
    "Written by Rachel Furner, April 2019.\n",
    "\n",
    "Collaborative work with colleagues at BAS, and the ATI\n",
    "\n"
   ]
  },
  {
   "cell_type": "markdown",
   "metadata": {},
   "source": [
    "1. Read in the data\n",
    "2. Define input data and output data.\n",
    "3. Split into test and train data.\n",
    "4. Train the network\n",
    "5. Run predictions on test data and assess."
   ]
  },
  {
   "cell_type": "code",
   "execution_count": 2,
   "metadata": {},
   "outputs": [
    {
     "name": "stdout",
     "output_type": "stream",
     "text": [
      "test\n"
     ]
    }
   ],
   "source": [
    "print('test')"
   ]
  },
  {
   "cell_type": "code",
   "execution_count": 3,
   "metadata": {},
   "outputs": [
    {
     "name": "stdout",
     "output_type": "stream",
     "text": [
      "imports done\n"
     ]
    }
   ],
   "source": [
    "import xarray as xr\n",
    "import numpy as np\n",
    "import numpy as np\n",
    "import matplotlib.pyplot as plt\n",
    "import random\n",
    "\n",
    "import os\n",
    "\n",
    "import tensorflow as tf\n",
    "\n",
    "#print(tf.__version__)\n",
    "\n",
    "from tensorflow.keras.datasets import cifar10\n",
    "from tensorflow.keras.preprocessing.image import ImageDataGenerator\n",
    "from tensorflow.keras.models import Sequential\n",
    "from tensorflow.keras.layers import Dense, Dropout, Activation, Flatten, Reshape\n",
    "from tensorflow.keras.layers import MaxPooling3D, Conv3D, UpSampling3D, Cropping3D\n",
    "\n",
    "import gpflow\n",
    "from gpflow.kernels import RBF, Periodic, ArcCosine\n",
    "\n",
    "import pickle\n",
    "\n",
    "print('imports done')"
   ]
  },
  {
   "cell_type": "markdown",
   "metadata": {},
   "source": [
    "Define variables for this experiment"
   ]
  },
  {
   "cell_type": "code",
   "execution_count": 4,
   "metadata": {},
   "outputs": [],
   "source": [
    "StepSize = 10 #number of timesteps forward which we want to predict\n",
    "SkipOver = 10"
   ]
  },
  {
   "cell_type": "markdown",
   "metadata": {},
   "source": [
    "Read in data files as Xarrays"
   ]
  },
  {
   "cell_type": "code",
   "execution_count": 5,
   "metadata": {},
   "outputs": [
    {
     "name": "stdout",
     "output_type": "stream",
     "text": [
      "4500yr_Windx0.50\n",
      "state.0000000000.t001.nc\n",
      "state.0000340920.t001.nc\n",
      "state.0000681840.t001.nc\n",
      "state.0001022760.t001.nc\n",
      "state.0001363680.t001.nc\n",
      "state.0001704600.t001.nc\n",
      "state.0000170460.t001.nc\n",
      "state.0000511380.t001.nc\n",
      "state.0000852300.t001.nc\n",
      "state.0001193220.t001.nc\n",
      "state.0001534140.t001.nc\n",
      "state.0001875060.t001.nc\n",
      "state.0002045520.t001.nc\n",
      "state.0002215980.t001.nc\n",
      "state.0002386440.t001.nc\n",
      "state.0002556900.t001.nc\n",
      "state.0002727360.t001.nc\n",
      "state.0002897820.t001.nc\n",
      "state.0003068280.t001.nc\n",
      "state.0003238740.t001.nc\n",
      "['/data/oceans_output/open/racfur/4500yr_Windx0.50/state.0000000000.t001.nc', '/data/oceans_output/open/racfur/4500yr_Windx0.50/state.0000340920.t001.nc', '/data/oceans_output/open/racfur/4500yr_Windx0.50/state.0000681840.t001.nc', '/data/oceans_output/open/racfur/4500yr_Windx0.50/state.0001022760.t001.nc', '/data/oceans_output/open/racfur/4500yr_Windx0.50/state.0001363680.t001.nc', '/data/oceans_output/open/racfur/4500yr_Windx0.50/state.0001704600.t001.nc', '/data/oceans_output/open/racfur/4500yr_Windx0.50/state.0000170460.t001.nc', '/data/oceans_output/open/racfur/4500yr_Windx0.50/state.0000511380.t001.nc', '/data/oceans_output/open/racfur/4500yr_Windx0.50/state.0000852300.t001.nc', '/data/oceans_output/open/racfur/4500yr_Windx0.50/state.0001193220.t001.nc', '/data/oceans_output/open/racfur/4500yr_Windx0.50/state.0001534140.t001.nc', '/data/oceans_output/open/racfur/4500yr_Windx0.50/state.0001875060.t001.nc', '/data/oceans_output/open/racfur/4500yr_Windx0.50/state.0002045520.t001.nc', '/data/oceans_output/open/racfur/4500yr_Windx0.50/state.0002215980.t001.nc', '/data/oceans_output/open/racfur/4500yr_Windx0.50/state.0002386440.t001.nc', '/data/oceans_output/open/racfur/4500yr_Windx0.50/state.0002556900.t001.nc', '/data/oceans_output/open/racfur/4500yr_Windx0.50/state.0002727360.t001.nc', '/data/oceans_output/open/racfur/4500yr_Windx0.50/state.0002897820.t001.nc', '/data/oceans_output/open/racfur/4500yr_Windx0.50/state.0003068280.t001.nc', '/data/oceans_output/open/racfur/4500yr_Windx0.50/state.0003238740.t001.nc']\n"
     ]
    }
   ],
   "source": [
    "DIR = '/data/oceans_output/open/racfur'\n",
    "exp_list = ['4500yr_Windx0.50']\n",
    "file_names = ['state.0000000000.t001.nc', 'state.0000340920.t001.nc', 'state.0000681840.t001.nc', \n",
    "              'state.0001022760.t001.nc', 'state.0001363680.t001.nc', 'state.0001704600.t001.nc',\n",
    "              'state.0000170460.t001.nc', 'state.0000511380.t001.nc', 'state.0000852300.t001.nc', \n",
    "              'state.0001193220.t001.nc', 'state.0001534140.t001.nc', 'state.0001875060.t001.nc',\n",
    "              'state.0002045520.t001.nc', 'state.0002215980.t001.nc', 'state.0002386440.t001.nc',\n",
    "              'state.0002556900.t001.nc', 'state.0002727360.t001.nc', 'state.0002897820.t001.nc',\n",
    "              'state.0003068280.t001.nc', 'state.0003238740.t001.nc']\n",
    "file_list =[]\n",
    "for exp in exp_list:\n",
    "    print(exp)\n",
    "    for file in file_names:\n",
    "        print(file)\n",
    "        file_list.append(os.path.join(DIR,exp,file))\n",
    "print(file_list)"
   ]
  },
  {
   "cell_type": "markdown",
   "metadata": {},
   "source": [
    "###### Define Input output pairs\n",
    "Eventual aim is that inputs are full model field at t-stepsize and t, outputs are full model fields at t+StepSize.\n",
    "For now, input is just Temp at just at time step t, and output is Temp at t+stepsize.\n",
    "\n",
    "In future could involve lots of input variables.\n",
    "\n",
    "StepSize can be changed easily (defined further up) - plan to test different values and see how well things work.\n",
    "\n",
    "We take input,output pairs with 't' spaced by 'SkipOver' steps apart. Currently this is set as 1, but ideally would be larger, in bid to ensure some independance between samples. Balance between low values giving us lots of training samples, but also a desire for independant training samples\n",
    "\n",
    "Need to amend below to loop through multiple files, so more training data, including data from different runs can be included.\n"
   ]
  },
  {
   "cell_type": "code",
   "execution_count": 6,
   "metadata": {},
   "outputs": [
    {
     "name": "stdout",
     "output_type": "stream",
     "text": [
      "(42, 78, 11)\n"
     ]
    }
   ],
   "source": [
    "training_data=[]\n",
    "for file in file_list:\n",
    "    ds   = xr.open_dataset(file)\n",
    "    for time in range(StepSize, len(ds.T.data)-StepSize, SkipOver):\n",
    "        training_data.append([ds.Temp.isel(T=time-StepSize), ds.Temp.isel(T=time), ds.Temp.isel(T=time+StepSize)])\n",
    "        #training_data.append([ds.Temp.isel(T=time-StepSize), ds.Temp.isel(T=time),\n",
    "        #                      ds.S.isel   (T=time-StepSize), ds.S.isel(T=time)   ,\n",
    "        #                      ds.U.isel   (T=time-StepSize), ds.U.isel(T=time)   ,\n",
    "        #                      ds.V.isel   (T=time-StepSize), ds.V.isel(T=time)   ,\n",
    "        #                      ds.Temp.isel(T=time+StepSize),\n",
    "        #    ])\n",
    "    \n",
    "#shuffle dataset\n",
    "random.shuffle(training_data)\n",
    "print(training_data[0][0].shape)"
   ]
  },
  {
   "cell_type": "markdown",
   "metadata": {},
   "source": [
    "Plot two fields, 100 time steps apart"
   ]
  },
  {
   "cell_type": "code",
   "execution_count": 6,
   "metadata": {},
   "outputs": [
    {
     "data": {
      "image/png": "[encoded data removed]",
      "text/plain": [
       "<Figure size 432x288 with 2 Axes>"
      ]
     },
     "metadata": {
      "needs_background": "light"
     },
     "output_type": "display_data"
    }
   ],
   "source": [
    "ds.Temp\n",
    "fig, ax = plt.subplots(ncols=1)\n",
    "ds.Temp.isel(T=0,Z=0).plot(cmap='OrRd')\n",
    "fig.savefig('start.png')\n"
   ]
  },
  {
   "cell_type": "code",
   "execution_count": 7,
   "metadata": {},
   "outputs": [
    {
     "data": {
      "image/png": "[encoded data removed]",
      "text/plain": [
       "<Figure size 432x288 with 2 Axes>"
      ]
     },
     "metadata": {
      "needs_background": "light"
     },
     "output_type": "display_data"
    }
   ],
   "source": [
    "fig, ax = plt.subplots(ncols=1)\n",
    "ds.Temp.isel(T=StepSize,Z=0).plot(cmap='OrRd')\n",
    "fig.savefig('end.png')\n"
   ]
  },
  {
   "cell_type": "code",
   "execution_count": 8,
   "metadata": {},
   "outputs": [
    {
     "data": {
      "image/png": "[encoded data removed]",
      "text/plain": [
       "<Figure size 432x288 with 2 Axes>"
      ]
     },
     "metadata": {
      "needs_background": "light"
     },
     "output_type": "display_data"
    }
   ],
   "source": [
    "fig, ax = plt.subplots(ncols=1)\n",
    "(ds.Temp.isel(T=StepSize,Z=0)-ds.Temp.isel(T=0,Z=0)).plot(cmap='RdBu' )\n",
    "fig.savefig('diff.png')"
   ]
  },
  {
   "cell_type": "markdown",
   "metadata": {},
   "source": [
    "Put this into X and Y arrays, ready for model to read\n",
    "\n",
    "If using multiple input variables pad with NaN's so the arrays are all the same size (not done above, as it changes them to arrays, and easier to leave as lists) - not needed when just looking at temp"
   ]
  },
  {
   "cell_type": "code",
   "execution_count": 7,
   "metadata": {},
   "outputs": [
    {
     "name": "stdout",
     "output_type": "stream",
     "text": [
      "(5378, 42, 78, 11, 2)\n",
      "(5378, 42, 78, 11)\n"
     ]
    }
   ],
   "source": [
    "X=[]\n",
    "Y=[]\n",
    "\n",
    "#for feat1,feat2,feat3,feat4,feat5,feat6,feat7,feat8,label in training_data:\n",
    "#        X.append([\n",
    "#            np.pad(feat1.data, ((0,0),(0,1),(0,1)),'constant', constant_values=('NaN')),\n",
    "#            np.pad(feat2.data, ((0,0),(0,1),(0,1)),'constant', constant_values=('NaN')),\n",
    "#            np.pad(feat3.data, ((0,0),(0,1),(0,1)),'constant', constant_values=('NaN')),\n",
    "#            np.pad(feat4.data, ((0,0),(0,1),(0,1)),'constant', constant_values=('NaN')),\n",
    "#            np.pad(feat5.data, ((0,0),(0,1),(0,0)),'constant', constant_values=('NaN')),\n",
    "#            np.pad(feat6.data, ((0,0),(0,1),(0,0)),'constant', constant_values=('NaN')),\n",
    "#            np.pad(feat7.data, ((0,0),(0,0),(0,1)),'constant', constant_values=('NaN')),\n",
    "#            np.pad(feat8.data, ((0,0),(0,0),(0,1)),'constant', constant_values=('NaN')),\n",
    "#             ])\n",
    "#        Y.append(np.pad(label.data, ((0,0),(0,1),(0,1)),'constant', constant_values=('NaN')))\n",
    "\n",
    "for feat1,feat2,label in training_data:\n",
    "        X.append([feat1.data, feat2.data])\n",
    "        #X.append(feat1.data)\n",
    "        Y.append(label.data)\n",
    "\n",
    "# convert to arrays, as model wont accept a list\n",
    "X=np.array(X).transpose(0, 2, 3, 4, 1)\n",
    "X=np.array(X)\n",
    "Y=np.array(Y)\n",
    "\n",
    "print(X.shape)\n",
    "print(Y.shape)"
   ]
  },
  {
   "cell_type": "markdown",
   "metadata": {},
   "source": [
    "Normalise data"
   ]
  },
  {
   "cell_type": "code",
   "execution_count": 8,
   "metadata": {},
   "outputs": [
    {
     "name": "stdout",
     "output_type": "stream",
     "text": [
      "(5378, 42, 78, 11, 2)\n",
      "(42, 78, 11, 2)\n"
     ]
    }
   ],
   "source": [
    "def normalise_data(X):\n",
    "    X=tf.keras/utils.normalize(X, axis=1)\n",
    "    return X\n",
    "\n",
    "print(X.shape)\n",
    "print(X.shape[1:])"
   ]
  },
  {
   "cell_type": "markdown",
   "metadata": {},
   "source": [
    "Trying a GP regressor for a single data point"
   ]
  },
  {
   "cell_type": "code",
   "execution_count": 9,
   "metadata": {},
   "outputs": [
    {
     "name": "stdout",
     "output_type": "stream",
     "text": [
      "WARNING:tensorflow:From /users/racfur/conda-envs/RF_environment/lib/python3.6/site-packages/tensorflow/python/framework/op_def_library.py:263: colocate_with (from tensorflow.python.framework.ops) is deprecated and will be removed in a future version.\n",
      "Instructions for updating:\n",
      "Colocations handled automatically by placer.\n"
     ]
    },
    {
     "name": "stderr",
     "output_type": "stream",
     "text": [
      "WARNING:tensorflow:From /users/racfur/conda-envs/RF_environment/lib/python3.6/site-packages/tensorflow/python/framework/op_def_library.py:263: colocate_with (from tensorflow.python.framework.ops) is deprecated and will be removed in a future version.\n",
      "Instructions for updating:\n",
      "Colocations handled automatically by placer.\n",
      "WARNING:gpflow.logdensities:Shape of x must be 2D at computation.\n"
     ]
    },
    {
     "name": "stdout",
     "output_type": "stream",
     "text": [
      "training\n",
      "WARNING:tensorflow:From /users/racfur/conda-envs/RF_environment/lib/python3.6/site-packages/tensorflow/python/ops/math_ops.py:3066: to_int32 (from tensorflow.python.ops.math_ops) is deprecated and will be removed in a future version.\n",
      "Instructions for updating:\n",
      "Use tf.cast instead.\n"
     ]
    },
    {
     "name": "stderr",
     "output_type": "stream",
     "text": [
      "WARNING:tensorflow:From /users/racfur/conda-envs/RF_environment/lib/python3.6/site-packages/tensorflow/python/ops/math_ops.py:3066: to_int32 (from tensorflow.python.ops.math_ops) is deprecated and will be removed in a future version.\n",
      "Instructions for updating:\n",
      "Use tf.cast instead.\n"
     ]
    },
    {
     "name": "stdout",
     "output_type": "stream",
     "text": [
      "INFO:tensorflow:Optimization terminated with:\n",
      "  Message: b'CONVERGENCE: NORM_OF_PROJECTED_GRADIENT_<=_PGTOL'\n",
      "  Objective function value: 2.015436\n",
      "  Number of iterations: 5\n",
      "  Number of functions evaluations: 6\n"
     ]
    },
    {
     "name": "stderr",
     "output_type": "stream",
     "text": [
      "INFO:tensorflow:Optimization terminated with:\n",
      "  Message: b'CONVERGENCE: NORM_OF_PROJECTED_GRADIENT_<=_PGTOL'\n",
      "  Objective function value: 2.015436\n",
      "  Number of iterations: 5\n",
      "  Number of functions evaluations: 6\n"
     ]
    }
   ],
   "source": [
    "coordx = 1\n",
    "coordy = 1\n",
    "coordz = 1\n",
    "\n",
    "inputs = []\n",
    "outputs = []\n",
    "for time in range(StepSize, len(ds.T.data)-StepSize, SkipOver):\n",
    "    Xnew = ds.Temp.isel(T=time)\n",
    "    inputs.append([Xnew[coordx,coordy,coordz]])\n",
    "          #Xnew[coordx,coordy+1,coordz],   Xnew[coordx,coordy-1,coordz],\n",
    "          #Xnew[coordx+1,coordy,coordz],   Xnew[coordx-1,coordy,coordz],\n",
    "          #Xnew[coordx+1,coordy+1,coordz], Xnew[coordx-1,coordy-1,coordz],\n",
    "          #Xnew[coordx+1,coordy-1,coordz], Xnew[coordx-1,coordy+1,coordz]])\n",
    "    outputs.append([ds.Temp.isel(T=time+StepSize)[coordx,coordy,coordz]])\n",
    "\n",
    "\n",
    "inputs=np.array(inputs)\n",
    "outputs=np.array(outputs)\n",
    "\n",
    "\n",
    "k = gpflow.kernels.Matern52(1, lengthscales=0.3)\n",
    "model = gpflow.models.GPR(inputs.astype('float64'), outputs.astype('float64'), kern=k )\n",
    "\n",
    "#\n",
    "### Optimise\n",
    "print('training')\n",
    "gpflow.train.ScipyOptimizer().minimize(model, disp=True)\n"
   ]
  },
  {
   "cell_type": "markdown",
   "metadata": {},
   "source": [
    "Try a single Layer NN, with the identity (i.e. linear) as the activation function to test basic set up (persistance forecast)"
   ]
  },
  {
   "cell_type": "code",
   "execution_count": 13,
   "metadata": {},
   "outputs": [
    {
     "name": "stdout",
     "output_type": "stream",
     "text": [
      "WARNING:tensorflow:From /users/racfur/conda-envs/RF_environment/lib/python3.6/site-packages/tensorflow/python/keras/utils/losses_utils.py:170: to_float (from tensorflow.python.ops.math_ops) is deprecated and will be removed in a future version.\n",
      "Instructions for updating:\n",
      "Use tf.cast instead.\n"
     ]
    },
    {
     "name": "stderr",
     "output_type": "stream",
     "text": [
      "WARNING:tensorflow:From /users/racfur/conda-envs/RF_environment/lib/python3.6/site-packages/tensorflow/python/keras/utils/losses_utils.py:170: to_float (from tensorflow.python.ops.math_ops) is deprecated and will be removed in a future version.\n",
      "Instructions for updating:\n",
      "Use tf.cast instead.\n"
     ]
    },
    {
     "name": "stdout",
     "output_type": "stream",
     "text": [
      "Train on 4571 samples, validate on 807 samples\n",
      "Epoch 1/3\n",
      "4571/4571 [==============================] - 3s 626us/sample - loss: 2.1647e-05 - acc: 0.9928 - val_loss: 2.3049e-05 - val_acc: 0.9927\n",
      "Epoch 2/3\n",
      "4571/4571 [==============================] - 3s 613us/sample - loss: 2.1647e-05 - acc: 0.9928 - val_loss: 2.3049e-05 - val_acc: 0.9927\n",
      "Epoch 3/3\n",
      "4571/4571 [==============================] - 3s 621us/sample - loss: 2.1647e-05 - acc: 0.9928 - val_loss: 2.3049e-05 - val_acc: 0.9927\n"
     ]
    },
    {
     "data": {
      "text/plain": [
       "<tensorflow.python.keras.callbacks.History at 0x7f886272bbe0>"
      ]
     },
     "execution_count": 13,
     "metadata": {},
     "output_type": "execute_result"
    }
   ],
   "source": [
    "model = Sequential()\n",
    "model.add(Activation('linear'))\n",
    "\n",
    "\n",
    "model.compile(loss='mean_squared_error',\n",
    "              optimizer='adam',\n",
    "              metrics=['accuracy'])\n",
    "\n",
    "model.fit(X[:,:,:,:,1], Y, batch_size=32, epochs=3, validation_split=0.15)"
   ]
  },
  {
   "cell_type": "code",
   "execution_count": 10,
   "metadata": {},
   "outputs": [
    {
     "name": "stdout",
     "output_type": "stream",
     "text": [
      "WARNING:tensorflow:From /users/racfur/conda-envs/RF_environment/lib/python3.6/site-packages/tensorflow/python/keras/utils/losses_utils.py:170: to_float (from tensorflow.python.ops.math_ops) is deprecated and will be removed in a future version.\n",
      "Instructions for updating:\n",
      "Use tf.cast instead.\n"
     ]
    },
    {
     "name": "stderr",
     "output_type": "stream",
     "text": [
      "WARNING:tensorflow:From /users/racfur/conda-envs/RF_environment/lib/python3.6/site-packages/tensorflow/python/keras/utils/losses_utils.py:170: to_float (from tensorflow.python.ops.math_ops) is deprecated and will be removed in a future version.\n",
      "Instructions for updating:\n",
      "Use tf.cast instead.\n"
     ]
    },
    {
     "name": "stdout",
     "output_type": "stream",
     "text": [
      "Train on 4302 samples, validate on 1076 samples\n",
      "Epoch 1/3\n"
     ]
    },
    {
     "ename": "InvalidArgumentError",
     "evalue": "Input to reshape is a tensor with 2306304 values, but the requested shape has 1153152\n\t [[{{node Reshape_11}}]]",
     "output_type": "error",
     "traceback": [
      "\u001b[0;31m---------------------------------------------------------------------------\u001b[0m",
      "\u001b[0;31mInvalidArgumentError\u001b[0m                      Traceback (most recent call last)",
      "\u001b[0;32m<ipython-input-10-a33f1b8133f9>\u001b[0m in \u001b[0;36m<module>\u001b[0;34m\u001b[0m\n\u001b[1;32m     11\u001b[0m               metrics=['accuracy'])\n\u001b[1;32m     12\u001b[0m \u001b[0;34m\u001b[0m\u001b[0m\n\u001b[0;32m---> 13\u001b[0;31m \u001b[0mmodel\u001b[0m\u001b[0;34m.\u001b[0m\u001b[0mfit\u001b[0m\u001b[0;34m(\u001b[0m\u001b[0mX\u001b[0m\u001b[0;34m,\u001b[0m \u001b[0mY\u001b[0m\u001b[0;34m,\u001b[0m \u001b[0mbatch_size\u001b[0m\u001b[0;34m=\u001b[0m\u001b[0;36m32\u001b[0m\u001b[0;34m,\u001b[0m \u001b[0mepochs\u001b[0m\u001b[0;34m=\u001b[0m\u001b[0;36m3\u001b[0m\u001b[0;34m,\u001b[0m \u001b[0mvalidation_split\u001b[0m\u001b[0;34m=\u001b[0m\u001b[0;36m0.2\u001b[0m\u001b[0;34m)\u001b[0m\u001b[0;34m\u001b[0m\u001b[0;34m\u001b[0m\u001b[0m\n\u001b[0m",
      "\u001b[0;32m~/conda-envs/RF_environment/lib/python3.6/site-packages/tensorflow/python/keras/engine/training.py\u001b[0m in \u001b[0;36mfit\u001b[0;34m(self, x, y, batch_size, epochs, verbose, callbacks, validation_split, validation_data, shuffle, class_weight, sample_weight, initial_epoch, steps_per_epoch, validation_steps, max_queue_size, workers, use_multiprocessing, **kwargs)\u001b[0m\n\u001b[1;32m    878\u001b[0m           \u001b[0minitial_epoch\u001b[0m\u001b[0;34m=\u001b[0m\u001b[0minitial_epoch\u001b[0m\u001b[0;34m,\u001b[0m\u001b[0;34m\u001b[0m\u001b[0;34m\u001b[0m\u001b[0m\n\u001b[1;32m    879\u001b[0m           \u001b[0msteps_per_epoch\u001b[0m\u001b[0;34m=\u001b[0m\u001b[0msteps_per_epoch\u001b[0m\u001b[0;34m,\u001b[0m\u001b[0;34m\u001b[0m\u001b[0;34m\u001b[0m\u001b[0m\n\u001b[0;32m--> 880\u001b[0;31m           validation_steps=validation_steps)\n\u001b[0m\u001b[1;32m    881\u001b[0m \u001b[0;34m\u001b[0m\u001b[0m\n\u001b[1;32m    882\u001b[0m   def evaluate(self,\n",
      "\u001b[0;32m~/conda-envs/RF_environment/lib/python3.6/site-packages/tensorflow/python/keras/engine/training_arrays.py\u001b[0m in \u001b[0;36mmodel_iteration\u001b[0;34m(model, inputs, targets, sample_weights, batch_size, epochs, verbose, callbacks, val_inputs, val_targets, val_sample_weights, shuffle, initial_epoch, steps_per_epoch, validation_steps, mode, validation_in_fit, **kwargs)\u001b[0m\n\u001b[1;32m    327\u001b[0m \u001b[0;34m\u001b[0m\u001b[0m\n\u001b[1;32m    328\u001b[0m         \u001b[0;31m# Get outputs.\u001b[0m\u001b[0;34m\u001b[0m\u001b[0;34m\u001b[0m\u001b[0;34m\u001b[0m\u001b[0m\n\u001b[0;32m--> 329\u001b[0;31m         \u001b[0mbatch_outs\u001b[0m \u001b[0;34m=\u001b[0m \u001b[0mf\u001b[0m\u001b[0;34m(\u001b[0m\u001b[0mins_batch\u001b[0m\u001b[0;34m)\u001b[0m\u001b[0;34m\u001b[0m\u001b[0;34m\u001b[0m\u001b[0m\n\u001b[0m\u001b[1;32m    330\u001b[0m         \u001b[0;32mif\u001b[0m \u001b[0;32mnot\u001b[0m \u001b[0misinstance\u001b[0m\u001b[0;34m(\u001b[0m\u001b[0mbatch_outs\u001b[0m\u001b[0;34m,\u001b[0m \u001b[0mlist\u001b[0m\u001b[0;34m)\u001b[0m\u001b[0;34m:\u001b[0m\u001b[0;34m\u001b[0m\u001b[0;34m\u001b[0m\u001b[0m\n\u001b[1;32m    331\u001b[0m           \u001b[0mbatch_outs\u001b[0m \u001b[0;34m=\u001b[0m \u001b[0;34m[\u001b[0m\u001b[0mbatch_outs\u001b[0m\u001b[0;34m]\u001b[0m\u001b[0;34m\u001b[0m\u001b[0;34m\u001b[0m\u001b[0m\n",
      "\u001b[0;32m~/conda-envs/RF_environment/lib/python3.6/site-packages/tensorflow/python/keras/backend.py\u001b[0m in \u001b[0;36m__call__\u001b[0;34m(self, inputs)\u001b[0m\n\u001b[1;32m   3074\u001b[0m \u001b[0;34m\u001b[0m\u001b[0m\n\u001b[1;32m   3075\u001b[0m     fetched = self._callable_fn(*array_vals,\n\u001b[0;32m-> 3076\u001b[0;31m                                 run_metadata=self.run_metadata)\n\u001b[0m\u001b[1;32m   3077\u001b[0m     \u001b[0mself\u001b[0m\u001b[0;34m.\u001b[0m\u001b[0m_call_fetch_callbacks\u001b[0m\u001b[0;34m(\u001b[0m\u001b[0mfetched\u001b[0m\u001b[0;34m[\u001b[0m\u001b[0;34m-\u001b[0m\u001b[0mlen\u001b[0m\u001b[0;34m(\u001b[0m\u001b[0mself\u001b[0m\u001b[0;34m.\u001b[0m\u001b[0m_fetches\u001b[0m\u001b[0;34m)\u001b[0m\u001b[0;34m:\u001b[0m\u001b[0;34m]\u001b[0m\u001b[0;34m)\u001b[0m\u001b[0;34m\u001b[0m\u001b[0;34m\u001b[0m\u001b[0m\n\u001b[1;32m   3078\u001b[0m     return nest.pack_sequence_as(self._outputs_structure,\n",
      "\u001b[0;32m~/conda-envs/RF_environment/lib/python3.6/site-packages/tensorflow/python/client/session.py\u001b[0m in \u001b[0;36m__call__\u001b[0;34m(self, *args, **kwargs)\u001b[0m\n\u001b[1;32m   1437\u001b[0m           ret = tf_session.TF_SessionRunCallable(\n\u001b[1;32m   1438\u001b[0m               \u001b[0mself\u001b[0m\u001b[0;34m.\u001b[0m\u001b[0m_session\u001b[0m\u001b[0;34m.\u001b[0m\u001b[0m_session\u001b[0m\u001b[0;34m,\u001b[0m \u001b[0mself\u001b[0m\u001b[0;34m.\u001b[0m\u001b[0m_handle\u001b[0m\u001b[0;34m,\u001b[0m \u001b[0margs\u001b[0m\u001b[0;34m,\u001b[0m \u001b[0mstatus\u001b[0m\u001b[0;34m,\u001b[0m\u001b[0;34m\u001b[0m\u001b[0;34m\u001b[0m\u001b[0m\n\u001b[0;32m-> 1439\u001b[0;31m               run_metadata_ptr)\n\u001b[0m\u001b[1;32m   1440\u001b[0m         \u001b[0;32mif\u001b[0m \u001b[0mrun_metadata\u001b[0m\u001b[0;34m:\u001b[0m\u001b[0;34m\u001b[0m\u001b[0;34m\u001b[0m\u001b[0m\n\u001b[1;32m   1441\u001b[0m           \u001b[0mproto_data\u001b[0m \u001b[0;34m=\u001b[0m \u001b[0mtf_session\u001b[0m\u001b[0;34m.\u001b[0m\u001b[0mTF_GetBuffer\u001b[0m\u001b[0;34m(\u001b[0m\u001b[0mrun_metadata_ptr\u001b[0m\u001b[0;34m)\u001b[0m\u001b[0;34m\u001b[0m\u001b[0;34m\u001b[0m\u001b[0m\n",
      "\u001b[0;32m~/conda-envs/RF_environment/lib/python3.6/site-packages/tensorflow/python/framework/errors_impl.py\u001b[0m in \u001b[0;36m__exit__\u001b[0;34m(self, type_arg, value_arg, traceback_arg)\u001b[0m\n\u001b[1;32m    526\u001b[0m             \u001b[0;32mNone\u001b[0m\u001b[0;34m,\u001b[0m \u001b[0;32mNone\u001b[0m\u001b[0;34m,\u001b[0m\u001b[0;34m\u001b[0m\u001b[0;34m\u001b[0m\u001b[0m\n\u001b[1;32m    527\u001b[0m             \u001b[0mcompat\u001b[0m\u001b[0;34m.\u001b[0m\u001b[0mas_text\u001b[0m\u001b[0;34m(\u001b[0m\u001b[0mc_api\u001b[0m\u001b[0;34m.\u001b[0m\u001b[0mTF_Message\u001b[0m\u001b[0;34m(\u001b[0m\u001b[0mself\u001b[0m\u001b[0;34m.\u001b[0m\u001b[0mstatus\u001b[0m\u001b[0;34m.\u001b[0m\u001b[0mstatus\u001b[0m\u001b[0;34m)\u001b[0m\u001b[0;34m)\u001b[0m\u001b[0;34m,\u001b[0m\u001b[0;34m\u001b[0m\u001b[0;34m\u001b[0m\u001b[0m\n\u001b[0;32m--> 528\u001b[0;31m             c_api.TF_GetCode(self.status.status))\n\u001b[0m\u001b[1;32m    529\u001b[0m     \u001b[0;31m# Delete the underlying status object from memory otherwise it stays alive\u001b[0m\u001b[0;34m\u001b[0m\u001b[0;34m\u001b[0m\u001b[0;34m\u001b[0m\u001b[0m\n\u001b[1;32m    530\u001b[0m     \u001b[0;31m# as there is a reference to status from this from the traceback due to\u001b[0m\u001b[0;34m\u001b[0m\u001b[0;34m\u001b[0m\u001b[0;34m\u001b[0m\u001b[0m\n",
      "\u001b[0;31mInvalidArgumentError\u001b[0m: Input to reshape is a tensor with 2306304 values, but the requested shape has 1153152\n\t [[{{node Reshape_11}}]]"
     ]
    }
   ],
   "source": [
    "model = Sequential()\n",
    "\n",
    "#'flatten' inputs\n",
    "model.add(Flatten())\n",
    "model.add(Activation('linear'))\n",
    "#reshape\n",
    "model.add(Reshape(Y.shape[1:]))\n",
    "\n",
    "model.compile(loss='mean_squared_error',\n",
    "              optimizer='adam',\n",
    "              metrics=['accuracy'])\n",
    "\n",
    "model.fit(X, Y, batch_size=32, epochs=3, validation_split=0.2)"
   ]
  },
  {
   "cell_type": "code",
   "execution_count": 15,
   "metadata": {},
   "outputs": [
    {
     "name": "stdout",
     "output_type": "stream",
     "text": [
      "Train on 4302 samples, validate on 1076 samples\n",
      "Epoch 1/3\n",
      "4302/4302 [==============================] - 3471s 807ms/sample - loss: 6194.2614 - acc: 0.1339 - val_loss: 0.5496 - val_acc: 0.2020\n",
      "Epoch 2/3\n",
      "4302/4302 [==============================] - 3504s 814ms/sample - loss: 0.1769 - acc: 0.3101 - val_loss: 0.0496 - val_acc: 0.3340\n",
      "Epoch 3/3\n",
      "4302/4302 [==============================] - 3499s 813ms/sample - loss: 0.0237 - acc: 0.3918 - val_loss: 0.0080 - val_acc: 0.4479\n"
     ]
    },
    {
     "data": {
      "text/plain": [
       "<tensorflow.python.keras.callbacks.History at 0x7f885ee81a20>"
      ]
     },
     "execution_count": 15,
     "metadata": {},
     "output_type": "execute_result"
    }
   ],
   "source": [
    "model = Sequential()\n",
    "\n",
    "#'flatten' inputs\n",
    "model.add(Flatten())  \n",
    "# define first hidden layer\n",
    "model.add(Dense(36036))\n",
    "model.add(Activation('linear'))\n",
    "#reshape\n",
    "model.add(Reshape(Y.shape[1:]))\n",
    "\n",
    "model.compile(loss='mean_squared_error',\n",
    "              optimizer='adam',\n",
    "              metrics=['accuracy'])\n",
    "\n",
    "model.fit(X, Y, batch_size=32, epochs=3, validation_split=0.2)\n",
    "\n"
   ]
  },
  {
   "cell_type": "code",
   "execution_count": 8,
   "metadata": {},
   "outputs": [
    {
     "name": "stdout",
     "output_type": "stream",
     "text": [
      "WARNING:tensorflow:From /users/racfur/conda-envs/RF_environment/lib/python3.6/site-packages/tensorflow/python/ops/resource_variable_ops.py:435: colocate_with (from tensorflow.python.framework.ops) is deprecated and will be removed in a future version.\n",
      "Instructions for updating:\n",
      "Colocations handled automatically by placer.\n"
     ]
    },
    {
     "name": "stderr",
     "output_type": "stream",
     "text": [
      "WARNING:tensorflow:From /users/racfur/conda-envs/RF_environment/lib/python3.6/site-packages/tensorflow/python/ops/resource_variable_ops.py:435: colocate_with (from tensorflow.python.framework.ops) is deprecated and will be removed in a future version.\n",
      "Instructions for updating:\n",
      "Colocations handled automatically by placer.\n"
     ]
    },
    {
     "name": "stdout",
     "output_type": "stream",
     "text": [
      "WARNING:tensorflow:From /users/racfur/conda-envs/RF_environment/lib/python3.6/site-packages/tensorflow/python/keras/utils/losses_utils.py:170: to_float (from tensorflow.python.ops.math_ops) is deprecated and will be removed in a future version.\n",
      "Instructions for updating:\n",
      "Use tf.cast instead.\n"
     ]
    },
    {
     "name": "stderr",
     "output_type": "stream",
     "text": [
      "WARNING:tensorflow:From /users/racfur/conda-envs/RF_environment/lib/python3.6/site-packages/tensorflow/python/keras/utils/losses_utils.py:170: to_float (from tensorflow.python.ops.math_ops) is deprecated and will be removed in a future version.\n",
      "Instructions for updating:\n",
      "Use tf.cast instead.\n"
     ]
    },
    {
     "name": "stdout",
     "output_type": "stream",
     "text": [
      "Train on 4302 samples, validate on 1076 samples\n",
      "WARNING:tensorflow:From /users/racfur/conda-envs/RF_environment/lib/python3.6/site-packages/tensorflow/python/ops/math_ops.py:3066: to_int32 (from tensorflow.python.ops.math_ops) is deprecated and will be removed in a future version.\n",
      "Instructions for updating:\n",
      "Use tf.cast instead.\n"
     ]
    },
    {
     "name": "stderr",
     "output_type": "stream",
     "text": [
      "WARNING:tensorflow:From /users/racfur/conda-envs/RF_environment/lib/python3.6/site-packages/tensorflow/python/ops/math_ops.py:3066: to_int32 (from tensorflow.python.ops.math_ops) is deprecated and will be removed in a future version.\n",
      "Instructions for updating:\n",
      "Use tf.cast instead.\n"
     ]
    },
    {
     "name": "stdout",
     "output_type": "stream",
     "text": [
      "Epoch 1/3\n",
      "4302/4302 [==============================] - 2580s 600ms/sample - loss: 386.9854 - acc: 0.2287 - val_loss: 89.2470 - val_acc: 0.2304\n",
      "Epoch 2/3\n",
      "4302/4302 [==============================] - 2564s 596ms/sample - loss: 89.2533 - acc: 0.2304 - val_loss: 89.2470 - val_acc: 0.2304\n",
      "Epoch 3/3\n",
      "4302/4302 [==============================] - 2563s 596ms/sample - loss: 89.2533 - acc: 0.2304 - val_loss: 89.2470 - val_acc: 0.2304\n"
     ]
    },
    {
     "data": {
      "text/plain": [
       "<tensorflow.python.keras.callbacks.History at 0x7fd91dd6a978>"
      ]
     },
     "execution_count": 8,
     "metadata": {},
     "output_type": "execute_result"
    }
   ],
   "source": [
    "model = Sequential()\n",
    "\n",
    "#'flatten' inputs\n",
    "model.add(Flatten())  \n",
    "# define first hidden layer\n",
    "model.add(Dense(36036))\n",
    "model.add(Activation('relu'))\n",
    "#reshape\n",
    "model.add(Reshape(Y.shape[1:]))\n",
    "\n",
    "model.compile(loss='mean_squared_error',\n",
    "              optimizer='adam',\n",
    "              metrics=['accuracy'])\n",
    "\n",
    "model.fit(X, Y, batch_size=32, epochs=3, validation_split=0.2)"
   ]
  },
  {
   "cell_type": "markdown",
   "metadata": {},
   "source": [
    "##### NN attempt 1\n",
    "\n",
    "trying using just conv layers - no pooling, so not an autoencoder type set up.\n",
    "\n",
    "This runs, but results are diabolical....\n",
    "\n",
    "Number of inputs = 42 * 78 * 11 * 2 = 72072 inputs. This is huge..."
   ]
  },
  {
   "cell_type": "code",
   "execution_count": null,
   "metadata": {},
   "outputs": [],
   "source": [
    "model = Sequential()\n",
    "\n",
    "model.add(Conv3D(72072, (3, 3, 3), input_shape=X.shape[1:], padding='same'))  #no shape change with padding...\n",
    "model.add(Activation('relu'))\n",
    "#model.add(Conv3D(72072, (5, 5, 5), input_shape=X.shape[1:], padding='same'))\n",
    "#model.add(Activation('relu'))\n",
    "#model.add(Conv3D(72072, (3, 3, 3), input_shape=X.shape[1:], padding='same'))\n",
    "#model.add(Activation('linear'))\n",
    "\n",
    "model.compile(loss='mean_squared_error',\n",
    "              optimizer='adam',\n",
    "              metrics=['accuracy'])\n",
    "\n",
    "model.fit(X, Y, batch_size=32, epochs=3, validation_split=0.2)"
   ]
  },
  {
   "cell_type": "markdown",
   "metadata": {},
   "source": [
    "##### NN Attemmpt 3:\n",
    "\n",
    "Also tried with Dense layers instead...\n"
   ]
  },
  {
   "cell_type": "code",
   "execution_count": null,
   "metadata": {},
   "outputs": [],
   "source": [
    "model = Sequential()\n",
    "\n",
    "#'flatten' inputs\n",
    "model.add(Flatten())   # should be dim 960\n",
    "# define first hidden layer\n",
    "model.add(Dense(72072))\n",
    "model.add(Activation('relu'))\n",
    "#add second hidden layer \n",
    "model.add(Dense(72072))\n",
    "model.add(Activation('relu'))\n",
    "#add third layer - output payer\n",
    "model.add(Dense(36036))\n",
    "#ouput layer should have linear activation function suitable for a regression problem\n",
    "model.add(Activation('linear'))\n",
    "#reshape\n",
    "model.add(Reshape(Y.shape[1:]))\n",
    "\n",
    "\n",
    "model.compile(loss='mean_squared_error',\n",
    "              optimizer='adam',\n",
    "              metrics=['accuracy'])\n",
    "\n",
    "model.fit(X, Y, batch_size=128, epochs=3, validation_split=0.2)"
   ]
  },
  {
   "cell_type": "markdown",
   "metadata": {},
   "source": [
    "##### NN Attempt 4\n",
    "\n",
    "A combination of Conv and dense layers..."
   ]
  },
  {
   "cell_type": "code",
   "execution_count": null,
   "metadata": {},
   "outputs": [],
   "source": [
    "model = Sequential()\n",
    "\n",
    "model.add(Conv3D(72072, (3, 3,3), input_shape=X.shape[1:], padding='same'))\n",
    "model.add(Activation('relu'))\n",
    "\n",
    "model.add(Conv3D(72072, (5, 5, 5), padding='same'))\n",
    "model.add(Activation('relu'))\n",
    "\n",
    "model.add(Conv3D(72072, (7, 7, 7), padding='same'))\n",
    "model.add(Activation('relu'))\n",
    "\n",
    "model.add(Flatten())\n",
    "model.add(Dense(72072))\n",
    "#last layer should have linear activation function suitable for a regression problem\n",
    "model.add(Activation('linear'))\n",
    "#reshape\n",
    "model.add(Reshape(Y.shape[1:]))\n",
    "\n",
    "model.compile(loss='mean_squared_error',\n",
    "              optimizer='adam',\n",
    "              metrics=['accuracy'])\n",
    "\n",
    "model.fit(X, Y, batch_size=128, epochs=3, validation_split=0.2)"
   ]
  },
  {
   "cell_type": "code",
   "execution_count": null,
   "metadata": {},
   "outputs": [],
   "source": []
  },
  {
   "cell_type": "code",
   "execution_count": null,
   "metadata": {},
   "outputs": [],
   "source": []
  }
 ],
 "metadata": {
  "kernelspec": {
   "display_name": "Python 3",
   "language": "python",
   "name": "python3"
  },
  "language_info": {
   "codemirror_mode": {
    "name": "ipython",
    "version": 3
   },
   "file_extension": ".py",
   "mimetype": "text/x-python",
   "name": "python",
   "nbconvert_exporter": "python",
   "pygments_lexer": "ipython3",
   "version": "3.6.8"
  }
 },
 "nbformat": 4,
 "nbformat_minor": 2
}
