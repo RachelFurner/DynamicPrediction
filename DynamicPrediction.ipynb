{
 "cells": [
  {
   "cell_type": "markdown",
   "metadata": {},
   "source": [
    "# Script to predict dynamic time stepping of an ocean model\n",
    "\n",
    "Written by Rachel Furner, April 2019.\n",
    "\n",
    "Collaborative work with colleagues at BAS, and the ATI\n",
    "\n"
   ]
  },
  {
   "cell_type": "markdown",
   "metadata": {},
   "source": [
    "1. Read in the data\n",
    "2. Define input data and output data.\n",
    "3. Split into test and train data.\n",
    "4. Train the network\n",
    "5. Run predictions on test data and assess."
   ]
  },
  {
   "cell_type": "code",
   "execution_count": 77,
   "metadata": {},
   "outputs": [
    {
     "name": "stdout",
     "output_type": "stream",
     "text": [
      "1.13.1\n"
     ]
    }
   ],
   "source": [
    "import xarray as xr\n",
    "import numpy as np\n",
    "import numpy as np\n",
    "import matplotlib.pyplot as plt\n",
    "import random\n",
    "\n",
    "import os\n",
    "import cv2\n",
    "\n",
    "import tensorflow as tf\n",
    "\n",
    "print(tf.__version__)\n",
    "\n",
    "from tensorflow.keras.datasets import cifar10\n",
    "from tensorflow.keras.preprocessing.image import ImageDataGenerator\n",
    "from tensorflow.keras.models import Sequential\n",
    "from tensorflow.keras.layers import Dense, Dropout, Activation, Flatten, Reshape\n",
    "from tensorflow.keras.layers import MaxPooling3D, Conv3D, UpSampling3D, Cropping3D\n",
    "\n",
    "import gpflow\n",
    "from gpflow.kernels import RBF, Periodic, ArcCosine\n",
    "\n",
    "import pickle"
   ]
  },
  {
   "cell_type": "markdown",
   "metadata": {},
   "source": [
    "Define variables for this experiment"
   ]
  },
  {
   "cell_type": "code",
   "execution_count": 112,
   "metadata": {},
   "outputs": [],
   "source": [
    "StepSize = 1000 #number of timesteps forward which we want to predict\n",
    "SkipOver = 100"
   ]
  },
  {
   "cell_type": "markdown",
   "metadata": {},
   "source": [
    "Read in data files as Xarrays"
   ]
  },
  {
   "cell_type": "code",
   "execution_count": 113,
   "metadata": {},
   "outputs": [
    {
     "name": "stdout",
     "output_type": "stream",
     "text": [
      "4500yr_Windx0.50\n",
      "state.0000000000.t001.nc\n",
      "['/Users/rachelfurner/DATA/JasminData/DynPred/4500yr_Windx0.50/state.0000000000.t001.nc']\n"
     ]
    }
   ],
   "source": [
    "DIR = '/Users/rachelfurner/DATA/JasminData/DynPred/'\n",
    "exp_list = ['4500yr_Windx0.50']\n",
    "file_names = ['state.0000000000.t001.nc']\n",
    "file_list =[]\n",
    "for exp in exp_list:\n",
    "    print(exp)\n",
    "    for file in file_names:\n",
    "        print(file)\n",
    "        file_list.append(os.path.join(DIR,exp,file))\n",
    "print(file_list)"
   ]
  },
  {
   "cell_type": "markdown",
   "metadata": {},
   "source": [
    "###### Define Input output pairs\n",
    "Eventual aim is that inputs are full model field at t-stepsize and t, outputs are full model fields at t+StepSize.\n",
    "For now, input is just Temp at just at time step t, and output is Temp at t+stepsize.\n",
    "\n",
    "In future could involve lots of input variables.\n",
    "\n",
    "StepSize can be changed easily (defined further up) - plan to test different values and see how well things work.\n",
    "\n",
    "We take input,output pairs with 't' spaced by 'SkipOver' steps apart. Currently this is set as 1, but ideally would be larger, in bid to ensure some independance between samples. Balance between low values giving us lots of training samples, but also a desire for independant training samples\n",
    "\n",
    "Need to amend below to loop through multiple files, so more training data, including data from different runs can be included.\n"
   ]
  },
  {
   "cell_type": "code",
   "execution_count": 114,
   "metadata": {},
   "outputs": [
    {
     "name": "stdout",
     "output_type": "stream",
     "text": [
      "(42, 78, 11)\n"
     ]
    }
   ],
   "source": [
    "training_data=[]\n",
    "for file in file_list:\n",
    "    ds   = xr.open_dataset(file)\n",
    "    for time in range(StepSize, len(ds.T.data)-StepSize, SkipOver):\n",
    "        training_data.append([ds.Temp.isel(T=time-StepSize), ds.Temp.isel(T=time), ds.Temp.isel(T=time+StepSize)])\n",
    "        #training_data.append([ds.Temp.isel(T=time-StepSize), ds.Temp.isel(T=time),\n",
    "        #                      ds.S.isel   (T=time-StepSize), ds.S.isel(T=time)   ,\n",
    "        #                      ds.U.isel   (T=time-StepSize), ds.U.isel(T=time)   ,\n",
    "        #                      ds.V.isel   (T=time-StepSize), ds.V.isel(T=time)   ,\n",
    "        #                      ds.Temp.isel(T=time+StepSize),\n",
    "        #    ])\n",
    "    \n",
    "#shuffle dataset\n",
    "random.shuffle(training_data)\n",
    "print(training_data[0][0].shape)"
   ]
  },
  {
   "cell_type": "markdown",
   "metadata": {},
   "source": [
    "Plot two fields, 100 time steps apart"
   ]
  },
  {
   "cell_type": "code",
   "execution_count": 115,
   "metadata": {},
   "outputs": [
    {
     "name": "stdout",
     "output_type": "stream",
     "text": [
      "ERROR:tensorflow:==================================\n",
      "Object was never used (type <class 'tensorflow.python.framework.ops.Tensor'>):\n",
      "<tf.Tensor 'GPR-226e631c-180/Y/IsVariableInitialized:0' shape=() dtype=bool>\n",
      "If you want to mark it as used call its \"mark_used()\" method.\n",
      "It was originally created here:\n",
      "  File \"/Users/rachelfurner/anaconda3/lib/python3.6/site-packages/IPython/core/interactiveshell.py\", line 3316, in run_code\n",
      "    return outflag  File \"<ipython-input-100-f5e215cd7aa9>\", line 25, in <module>\n",
      "    model = gpflow.models.GPR(inputs.astype('float64'), outputs.astype('float64'), kern=k )  File \"/Users/rachelfurner/anaconda3/lib/python3.6/site-packages/gpflow/core/compilable.py\", line 91, in __init__\n",
      "    self.initialize(force=True)  File \"/Users/rachelfurner/anaconda3/lib/python3.6/site-packages/gpflow/core/node.py\", line 156, in build\n",
      "    self._build()  File \"/Users/rachelfurner/anaconda3/lib/python3.6/site-packages/gpflow/models/model.py\", line 83, in _build\n",
      "    self._objective = objective  File \"/Users/rachelfurner/anaconda3/lib/python3.6/site-packages/gpflow/params/parameterized.py\", line 302, in _build\n",
      "    self._prior_tensor = self._build_prior(priors)  File \"/Users/rachelfurner/anaconda3/lib/python3.6/site-packages/gpflow/core/node.py\", line 156, in build\n",
      "    self._build()  File \"/Users/rachelfurner/anaconda3/lib/python3.6/site-packages/gpflow/params/dataholders.py\", line 91, in _build\n",
      "    self._is_initialized_tensor = tf.is_variable_initialized(tensor)  File \"/Users/rachelfurner/anaconda3/lib/python3.6/site-packages/tensorflow/python/util/tf_should_use.py\", line 193, in wrapped\n",
      "    return _add_should_use_warning(fn(*args, **kwargs))\n",
      "==================================\n"
     ]
    },
    {
     "name": "stderr",
     "output_type": "stream",
     "text": [
      "ERROR:tensorflow:==================================\n",
      "Object was never used (type <class 'tensorflow.python.framework.ops.Tensor'>):\n",
      "<tf.Tensor 'GPR-226e631c-180/Y/IsVariableInitialized:0' shape=() dtype=bool>\n",
      "If you want to mark it as used call its \"mark_used()\" method.\n",
      "It was originally created here:\n",
      "  File \"/Users/rachelfurner/anaconda3/lib/python3.6/site-packages/IPython/core/interactiveshell.py\", line 3316, in run_code\n",
      "    return outflag  File \"<ipython-input-100-f5e215cd7aa9>\", line 25, in <module>\n",
      "    model = gpflow.models.GPR(inputs.astype('float64'), outputs.astype('float64'), kern=k )  File \"/Users/rachelfurner/anaconda3/lib/python3.6/site-packages/gpflow/core/compilable.py\", line 91, in __init__\n",
      "    self.initialize(force=True)  File \"/Users/rachelfurner/anaconda3/lib/python3.6/site-packages/gpflow/core/node.py\", line 156, in build\n",
      "    self._build()  File \"/Users/rachelfurner/anaconda3/lib/python3.6/site-packages/gpflow/models/model.py\", line 83, in _build\n",
      "    self._objective = objective  File \"/Users/rachelfurner/anaconda3/lib/python3.6/site-packages/gpflow/params/parameterized.py\", line 302, in _build\n",
      "    self._prior_tensor = self._build_prior(priors)  File \"/Users/rachelfurner/anaconda3/lib/python3.6/site-packages/gpflow/core/node.py\", line 156, in build\n",
      "    self._build()  File \"/Users/rachelfurner/anaconda3/lib/python3.6/site-packages/gpflow/params/dataholders.py\", line 91, in _build\n",
      "    self._is_initialized_tensor = tf.is_variable_initialized(tensor)  File \"/Users/rachelfurner/anaconda3/lib/python3.6/site-packages/tensorflow/python/util/tf_should_use.py\", line 193, in wrapped\n",
      "    return _add_should_use_warning(fn(*args, **kwargs))\n",
      "==================================\n"
     ]
    },
    {
     "name": "stdout",
     "output_type": "stream",
     "text": [
      "ERROR:tensorflow:==================================\n",
      "Object was never used (type <class 'tensorflow.python.framework.ops.Tensor'>):\n",
      "<tf.Tensor 'GPR-226e631c-180/likelihood/variance/IsVariableInitialized:0' shape=() dtype=bool>\n",
      "If you want to mark it as used call its \"mark_used()\" method.\n",
      "It was originally created here:\n",
      "  File \"/Users/rachelfurner/anaconda3/lib/python3.6/site-packages/IPython/core/interactiveshell.py\", line 3316, in run_code\n",
      "    return outflag  File \"<ipython-input-100-f5e215cd7aa9>\", line 25, in <module>\n",
      "    model = gpflow.models.GPR(inputs.astype('float64'), outputs.astype('float64'), kern=k )  File \"/Users/rachelfurner/anaconda3/lib/python3.6/site-packages/gpflow/core/compilable.py\", line 91, in __init__\n",
      "    self.initialize(force=True)  File \"/Users/rachelfurner/anaconda3/lib/python3.6/site-packages/gpflow/core/node.py\", line 156, in build\n",
      "    self._build()  File \"/Users/rachelfurner/anaconda3/lib/python3.6/site-packages/gpflow/models/model.py\", line 83, in _build\n",
      "    self._objective = objective  File \"/Users/rachelfurner/anaconda3/lib/python3.6/site-packages/gpflow/params/parameterized.py\", line 302, in _build\n",
      "    self._prior_tensor = self._build_prior(priors)  File \"/Users/rachelfurner/anaconda3/lib/python3.6/site-packages/gpflow/core/node.py\", line 156, in build\n",
      "    self._build()  File \"/Users/rachelfurner/anaconda3/lib/python3.6/site-packages/gpflow/params/parameterized.py\", line 302, in _build\n",
      "    self._prior_tensor = self._build_prior(priors)  File \"/Users/rachelfurner/anaconda3/lib/python3.6/site-packages/gpflow/core/node.py\", line 156, in build\n",
      "    self._build()  File \"/Users/rachelfurner/anaconda3/lib/python3.6/site-packages/gpflow/params/parameter.py\", line 370, in _build\n",
      "    self._prior_tensor = prior  File \"/Users/rachelfurner/anaconda3/lib/python3.6/site-packages/tensorflow/python/util/tf_should_use.py\", line 193, in wrapped\n",
      "    return _add_should_use_warning(fn(*args, **kwargs))\n",
      "==================================\n"
     ]
    },
    {
     "name": "stderr",
     "output_type": "stream",
     "text": [
      "ERROR:tensorflow:==================================\n",
      "Object was never used (type <class 'tensorflow.python.framework.ops.Tensor'>):\n",
      "<tf.Tensor 'GPR-226e631c-180/likelihood/variance/IsVariableInitialized:0' shape=() dtype=bool>\n",
      "If you want to mark it as used call its \"mark_used()\" method.\n",
      "It was originally created here:\n",
      "  File \"/Users/rachelfurner/anaconda3/lib/python3.6/site-packages/IPython/core/interactiveshell.py\", line 3316, in run_code\n",
      "    return outflag  File \"<ipython-input-100-f5e215cd7aa9>\", line 25, in <module>\n",
      "    model = gpflow.models.GPR(inputs.astype('float64'), outputs.astype('float64'), kern=k )  File \"/Users/rachelfurner/anaconda3/lib/python3.6/site-packages/gpflow/core/compilable.py\", line 91, in __init__\n",
      "    self.initialize(force=True)  File \"/Users/rachelfurner/anaconda3/lib/python3.6/site-packages/gpflow/core/node.py\", line 156, in build\n",
      "    self._build()  File \"/Users/rachelfurner/anaconda3/lib/python3.6/site-packages/gpflow/models/model.py\", line 83, in _build\n",
      "    self._objective = objective  File \"/Users/rachelfurner/anaconda3/lib/python3.6/site-packages/gpflow/params/parameterized.py\", line 302, in _build\n",
      "    self._prior_tensor = self._build_prior(priors)  File \"/Users/rachelfurner/anaconda3/lib/python3.6/site-packages/gpflow/core/node.py\", line 156, in build\n",
      "    self._build()  File \"/Users/rachelfurner/anaconda3/lib/python3.6/site-packages/gpflow/params/parameterized.py\", line 302, in _build\n",
      "    self._prior_tensor = self._build_prior(priors)  File \"/Users/rachelfurner/anaconda3/lib/python3.6/site-packages/gpflow/core/node.py\", line 156, in build\n",
      "    self._build()  File \"/Users/rachelfurner/anaconda3/lib/python3.6/site-packages/gpflow/params/parameter.py\", line 370, in _build\n",
      "    self._prior_tensor = prior  File \"/Users/rachelfurner/anaconda3/lib/python3.6/site-packages/tensorflow/python/util/tf_should_use.py\", line 193, in wrapped\n",
      "    return _add_should_use_warning(fn(*args, **kwargs))\n",
      "==================================\n"
     ]
    },
    {
     "name": "stdout",
     "output_type": "stream",
     "text": [
      "ERROR:tensorflow:==================================\n",
      "Object was never used (type <class 'tensorflow.python.framework.ops.Tensor'>):\n",
      "<tf.Tensor 'Matern52-4fe05a07-183/lengthscales/IsVariableInitialized:0' shape=() dtype=bool>\n",
      "If you want to mark it as used call its \"mark_used()\" method.\n",
      "It was originally created here:\n",
      "  File \"/Users/rachelfurner/anaconda3/lib/python3.6/site-packages/IPython/core/interactiveshell.py\", line 3316, in run_code\n",
      "    return outflag  File \"<ipython-input-101-413c247d9f81>\", line 21, in <module>\n",
      "    k = gpflow.kernels.Matern52(1, lengthscales=0.3)  File \"/Users/rachelfurner/anaconda3/lib/python3.6/site-packages/gpflow/core/compilable.py\", line 91, in __init__\n",
      "    self.initialize(force=True)  File \"/Users/rachelfurner/anaconda3/lib/python3.6/site-packages/gpflow/core/node.py\", line 156, in build\n",
      "    self._build()  File \"/Users/rachelfurner/anaconda3/lib/python3.6/site-packages/gpflow/params/parameterized.py\", line 302, in _build\n",
      "    self._prior_tensor = self._build_prior(priors)  File \"/Users/rachelfurner/anaconda3/lib/python3.6/site-packages/gpflow/core/node.py\", line 156, in build\n",
      "    self._build()  File \"/Users/rachelfurner/anaconda3/lib/python3.6/site-packages/gpflow/params/parameter.py\", line 370, in _build\n",
      "    self._prior_tensor = prior  File \"/Users/rachelfurner/anaconda3/lib/python3.6/site-packages/tensorflow/python/util/tf_should_use.py\", line 193, in wrapped\n",
      "    return _add_should_use_warning(fn(*args, **kwargs))\n",
      "==================================\n"
     ]
    },
    {
     "name": "stderr",
     "output_type": "stream",
     "text": [
      "ERROR:tensorflow:==================================\n",
      "Object was never used (type <class 'tensorflow.python.framework.ops.Tensor'>):\n",
      "<tf.Tensor 'Matern52-4fe05a07-183/lengthscales/IsVariableInitialized:0' shape=() dtype=bool>\n",
      "If you want to mark it as used call its \"mark_used()\" method.\n",
      "It was originally created here:\n",
      "  File \"/Users/rachelfurner/anaconda3/lib/python3.6/site-packages/IPython/core/interactiveshell.py\", line 3316, in run_code\n",
      "    return outflag  File \"<ipython-input-101-413c247d9f81>\", line 21, in <module>\n",
      "    k = gpflow.kernels.Matern52(1, lengthscales=0.3)  File \"/Users/rachelfurner/anaconda3/lib/python3.6/site-packages/gpflow/core/compilable.py\", line 91, in __init__\n",
      "    self.initialize(force=True)  File \"/Users/rachelfurner/anaconda3/lib/python3.6/site-packages/gpflow/core/node.py\", line 156, in build\n",
      "    self._build()  File \"/Users/rachelfurner/anaconda3/lib/python3.6/site-packages/gpflow/params/parameterized.py\", line 302, in _build\n",
      "    self._prior_tensor = self._build_prior(priors)  File \"/Users/rachelfurner/anaconda3/lib/python3.6/site-packages/gpflow/core/node.py\", line 156, in build\n",
      "    self._build()  File \"/Users/rachelfurner/anaconda3/lib/python3.6/site-packages/gpflow/params/parameter.py\", line 370, in _build\n",
      "    self._prior_tensor = prior  File \"/Users/rachelfurner/anaconda3/lib/python3.6/site-packages/tensorflow/python/util/tf_should_use.py\", line 193, in wrapped\n",
      "    return _add_should_use_warning(fn(*args, **kwargs))\n",
      "==================================\n"
     ]
    },
    {
     "name": "stdout",
     "output_type": "stream",
     "text": [
      "ERROR:tensorflow:==================================\n",
      "Object was never used (type <class 'tensorflow.python.framework.ops.Tensor'>):\n",
      "<tf.Tensor 'Matern52-4fe05a07-183/variance/IsVariableInitialized:0' shape=() dtype=bool>\n",
      "If you want to mark it as used call its \"mark_used()\" method.\n",
      "It was originally created here:\n",
      "  File \"/Users/rachelfurner/anaconda3/lib/python3.6/site-packages/IPython/core/interactiveshell.py\", line 3316, in run_code\n",
      "    return outflag  File \"<ipython-input-101-413c247d9f81>\", line 21, in <module>\n",
      "    k = gpflow.kernels.Matern52(1, lengthscales=0.3)  File \"/Users/rachelfurner/anaconda3/lib/python3.6/site-packages/gpflow/core/compilable.py\", line 91, in __init__\n",
      "    self.initialize(force=True)  File \"/Users/rachelfurner/anaconda3/lib/python3.6/site-packages/gpflow/core/node.py\", line 156, in build\n",
      "    self._build()  File \"/Users/rachelfurner/anaconda3/lib/python3.6/site-packages/gpflow/params/parameterized.py\", line 302, in _build\n",
      "    self._prior_tensor = self._build_prior(priors)  File \"/Users/rachelfurner/anaconda3/lib/python3.6/site-packages/gpflow/core/node.py\", line 156, in build\n",
      "    self._build()  File \"/Users/rachelfurner/anaconda3/lib/python3.6/site-packages/gpflow/params/parameter.py\", line 370, in _build\n",
      "    self._prior_tensor = prior  File \"/Users/rachelfurner/anaconda3/lib/python3.6/site-packages/tensorflow/python/util/tf_should_use.py\", line 193, in wrapped\n",
      "    return _add_should_use_warning(fn(*args, **kwargs))\n",
      "==================================\n"
     ]
    },
    {
     "name": "stderr",
     "output_type": "stream",
     "text": [
      "ERROR:tensorflow:==================================\n",
      "Object was never used (type <class 'tensorflow.python.framework.ops.Tensor'>):\n",
      "<tf.Tensor 'Matern52-4fe05a07-183/variance/IsVariableInitialized:0' shape=() dtype=bool>\n",
      "If you want to mark it as used call its \"mark_used()\" method.\n",
      "It was originally created here:\n",
      "  File \"/Users/rachelfurner/anaconda3/lib/python3.6/site-packages/IPython/core/interactiveshell.py\", line 3316, in run_code\n",
      "    return outflag  File \"<ipython-input-101-413c247d9f81>\", line 21, in <module>\n",
      "    k = gpflow.kernels.Matern52(1, lengthscales=0.3)  File \"/Users/rachelfurner/anaconda3/lib/python3.6/site-packages/gpflow/core/compilable.py\", line 91, in __init__\n",
      "    self.initialize(force=True)  File \"/Users/rachelfurner/anaconda3/lib/python3.6/site-packages/gpflow/core/node.py\", line 156, in build\n",
      "    self._build()  File \"/Users/rachelfurner/anaconda3/lib/python3.6/site-packages/gpflow/params/parameterized.py\", line 302, in _build\n",
      "    self._prior_tensor = self._build_prior(priors)  File \"/Users/rachelfurner/anaconda3/lib/python3.6/site-packages/gpflow/core/node.py\", line 156, in build\n",
      "    self._build()  File \"/Users/rachelfurner/anaconda3/lib/python3.6/site-packages/gpflow/params/parameter.py\", line 370, in _build\n",
      "    self._prior_tensor = prior  File \"/Users/rachelfurner/anaconda3/lib/python3.6/site-packages/tensorflow/python/util/tf_should_use.py\", line 193, in wrapped\n",
      "    return _add_should_use_warning(fn(*args, **kwargs))\n",
      "==================================\n"
     ]
    },
    {
     "name": "stdout",
     "output_type": "stream",
     "text": [
      "ERROR:tensorflow:==================================\n",
      "Object was never used (type <class 'tensorflow.python.framework.ops.Tensor'>):\n",
      "<tf.Tensor 'GPR-5d477b57-190/Y/IsVariableInitialized:0' shape=() dtype=bool>\n",
      "If you want to mark it as used call its \"mark_used()\" method.\n",
      "It was originally created here:\n",
      "  File \"/Users/rachelfurner/anaconda3/lib/python3.6/site-packages/IPython/core/interactiveshell.py\", line 3316, in run_code\n",
      "    return outflag  File \"<ipython-input-101-413c247d9f81>\", line 22, in <module>\n",
      "    model = gpflow.models.GPR(inputs.astype('float64'), outputs.astype('float64'), kern=k )  File \"/Users/rachelfurner/anaconda3/lib/python3.6/site-packages/gpflow/core/compilable.py\", line 91, in __init__\n",
      "    self.initialize(force=True)  File \"/Users/rachelfurner/anaconda3/lib/python3.6/site-packages/gpflow/core/node.py\", line 156, in build\n",
      "    self._build()  File \"/Users/rachelfurner/anaconda3/lib/python3.6/site-packages/gpflow/models/model.py\", line 83, in _build\n",
      "    self._objective = objective  File \"/Users/rachelfurner/anaconda3/lib/python3.6/site-packages/gpflow/params/parameterized.py\", line 302, in _build\n",
      "    self._prior_tensor = self._build_prior(priors)  File \"/Users/rachelfurner/anaconda3/lib/python3.6/site-packages/gpflow/core/node.py\", line 156, in build\n",
      "    self._build()  File \"/Users/rachelfurner/anaconda3/lib/python3.6/site-packages/gpflow/params/dataholders.py\", line 91, in _build\n",
      "    self._is_initialized_tensor = tf.is_variable_initialized(tensor)  File \"/Users/rachelfurner/anaconda3/lib/python3.6/site-packages/tensorflow/python/util/tf_should_use.py\", line 193, in wrapped\n",
      "    return _add_should_use_warning(fn(*args, **kwargs))\n",
      "==================================\n"
     ]
    },
    {
     "name": "stderr",
     "output_type": "stream",
     "text": [
      "ERROR:tensorflow:==================================\n",
      "Object was never used (type <class 'tensorflow.python.framework.ops.Tensor'>):\n",
      "<tf.Tensor 'GPR-5d477b57-190/Y/IsVariableInitialized:0' shape=() dtype=bool>\n",
      "If you want to mark it as used call its \"mark_used()\" method.\n",
      "It was originally created here:\n",
      "  File \"/Users/rachelfurner/anaconda3/lib/python3.6/site-packages/IPython/core/interactiveshell.py\", line 3316, in run_code\n",
      "    return outflag  File \"<ipython-input-101-413c247d9f81>\", line 22, in <module>\n",
      "    model = gpflow.models.GPR(inputs.astype('float64'), outputs.astype('float64'), kern=k )  File \"/Users/rachelfurner/anaconda3/lib/python3.6/site-packages/gpflow/core/compilable.py\", line 91, in __init__\n",
      "    self.initialize(force=True)  File \"/Users/rachelfurner/anaconda3/lib/python3.6/site-packages/gpflow/core/node.py\", line 156, in build\n",
      "    self._build()  File \"/Users/rachelfurner/anaconda3/lib/python3.6/site-packages/gpflow/models/model.py\", line 83, in _build\n",
      "    self._objective = objective  File \"/Users/rachelfurner/anaconda3/lib/python3.6/site-packages/gpflow/params/parameterized.py\", line 302, in _build\n",
      "    self._prior_tensor = self._build_prior(priors)  File \"/Users/rachelfurner/anaconda3/lib/python3.6/site-packages/gpflow/core/node.py\", line 156, in build\n",
      "    self._build()  File \"/Users/rachelfurner/anaconda3/lib/python3.6/site-packages/gpflow/params/dataholders.py\", line 91, in _build\n",
      "    self._is_initialized_tensor = tf.is_variable_initialized(tensor)  File \"/Users/rachelfurner/anaconda3/lib/python3.6/site-packages/tensorflow/python/util/tf_should_use.py\", line 193, in wrapped\n",
      "    return _add_should_use_warning(fn(*args, **kwargs))\n",
      "==================================\n"
     ]
    },
    {
     "name": "stdout",
     "output_type": "stream",
     "text": [
      "ERROR:tensorflow:==================================\n",
      "Object was never used (type <class 'tensorflow.python.framework.ops.Tensor'>):\n",
      "<tf.Tensor 'GPR-5d477b57-190/likelihood/variance/IsVariableInitialized:0' shape=() dtype=bool>\n",
      "If you want to mark it as used call its \"mark_used()\" method.\n",
      "It was originally created here:\n",
      "  File \"/Users/rachelfurner/anaconda3/lib/python3.6/site-packages/IPython/core/interactiveshell.py\", line 3316, in run_code\n",
      "    return outflag  File \"<ipython-input-101-413c247d9f81>\", line 22, in <module>\n",
      "    model = gpflow.models.GPR(inputs.astype('float64'), outputs.astype('float64'), kern=k )  File \"/Users/rachelfurner/anaconda3/lib/python3.6/site-packages/gpflow/core/compilable.py\", line 91, in __init__\n",
      "    self.initialize(force=True)  File \"/Users/rachelfurner/anaconda3/lib/python3.6/site-packages/gpflow/core/node.py\", line 156, in build\n",
      "    self._build()  File \"/Users/rachelfurner/anaconda3/lib/python3.6/site-packages/gpflow/models/model.py\", line 83, in _build\n",
      "    self._objective = objective  File \"/Users/rachelfurner/anaconda3/lib/python3.6/site-packages/gpflow/params/parameterized.py\", line 302, in _build\n",
      "    self._prior_tensor = self._build_prior(priors)  File \"/Users/rachelfurner/anaconda3/lib/python3.6/site-packages/gpflow/core/node.py\", line 156, in build\n",
      "    self._build()  File \"/Users/rachelfurner/anaconda3/lib/python3.6/site-packages/gpflow/params/parameterized.py\", line 302, in _build\n",
      "    self._prior_tensor = self._build_prior(priors)  File \"/Users/rachelfurner/anaconda3/lib/python3.6/site-packages/gpflow/core/node.py\", line 156, in build\n",
      "    self._build()  File \"/Users/rachelfurner/anaconda3/lib/python3.6/site-packages/gpflow/params/parameter.py\", line 370, in _build\n",
      "    self._prior_tensor = prior  File \"/Users/rachelfurner/anaconda3/lib/python3.6/site-packages/tensorflow/python/util/tf_should_use.py\", line 193, in wrapped\n",
      "    return _add_should_use_warning(fn(*args, **kwargs))\n",
      "==================================\n"
     ]
    },
    {
     "name": "stderr",
     "output_type": "stream",
     "text": [
      "ERROR:tensorflow:==================================\n",
      "Object was never used (type <class 'tensorflow.python.framework.ops.Tensor'>):\n",
      "<tf.Tensor 'GPR-5d477b57-190/likelihood/variance/IsVariableInitialized:0' shape=() dtype=bool>\n",
      "If you want to mark it as used call its \"mark_used()\" method.\n",
      "It was originally created here:\n",
      "  File \"/Users/rachelfurner/anaconda3/lib/python3.6/site-packages/IPython/core/interactiveshell.py\", line 3316, in run_code\n",
      "    return outflag  File \"<ipython-input-101-413c247d9f81>\", line 22, in <module>\n",
      "    model = gpflow.models.GPR(inputs.astype('float64'), outputs.astype('float64'), kern=k )  File \"/Users/rachelfurner/anaconda3/lib/python3.6/site-packages/gpflow/core/compilable.py\", line 91, in __init__\n",
      "    self.initialize(force=True)  File \"/Users/rachelfurner/anaconda3/lib/python3.6/site-packages/gpflow/core/node.py\", line 156, in build\n",
      "    self._build()  File \"/Users/rachelfurner/anaconda3/lib/python3.6/site-packages/gpflow/models/model.py\", line 83, in _build\n",
      "    self._objective = objective  File \"/Users/rachelfurner/anaconda3/lib/python3.6/site-packages/gpflow/params/parameterized.py\", line 302, in _build\n",
      "    self._prior_tensor = self._build_prior(priors)  File \"/Users/rachelfurner/anaconda3/lib/python3.6/site-packages/gpflow/core/node.py\", line 156, in build\n",
      "    self._build()  File \"/Users/rachelfurner/anaconda3/lib/python3.6/site-packages/gpflow/params/parameterized.py\", line 302, in _build\n",
      "    self._prior_tensor = self._build_prior(priors)  File \"/Users/rachelfurner/anaconda3/lib/python3.6/site-packages/gpflow/core/node.py\", line 156, in build\n",
      "    self._build()  File \"/Users/rachelfurner/anaconda3/lib/python3.6/site-packages/gpflow/params/parameter.py\", line 370, in _build\n",
      "    self._prior_tensor = prior  File \"/Users/rachelfurner/anaconda3/lib/python3.6/site-packages/tensorflow/python/util/tf_should_use.py\", line 193, in wrapped\n",
      "    return _add_should_use_warning(fn(*args, **kwargs))\n",
      "==================================\n"
     ]
    },
    {
     "name": "stdout",
     "output_type": "stream",
     "text": [
      "ERROR:tensorflow:==================================\n",
      "Object was never used (type <class 'tensorflow.python.framework.ops.Tensor'>):\n",
      "<tf.Tensor 'GPR-5d477b57-190/X/IsVariableInitialized:0' shape=() dtype=bool>\n",
      "If you want to mark it as used call its \"mark_used()\" method.\n",
      "It was originally created here:\n",
      "  File \"/Users/rachelfurner/anaconda3/lib/python3.6/site-packages/IPython/core/interactiveshell.py\", line 3316, in run_code\n",
      "    return outflag  File \"<ipython-input-101-413c247d9f81>\", line 22, in <module>\n",
      "    model = gpflow.models.GPR(inputs.astype('float64'), outputs.astype('float64'), kern=k )  File \"/Users/rachelfurner/anaconda3/lib/python3.6/site-packages/gpflow/core/compilable.py\", line 91, in __init__\n",
      "    self.initialize(force=True)  File \"/Users/rachelfurner/anaconda3/lib/python3.6/site-packages/gpflow/core/node.py\", line 156, in build\n",
      "    self._build()  File \"/Users/rachelfurner/anaconda3/lib/python3.6/site-packages/gpflow/models/model.py\", line 83, in _build\n",
      "    self._objective = objective  File \"/Users/rachelfurner/anaconda3/lib/python3.6/site-packages/gpflow/params/parameterized.py\", line 302, in _build\n",
      "    self._prior_tensor = self._build_prior(priors)  File \"/Users/rachelfurner/anaconda3/lib/python3.6/site-packages/gpflow/core/node.py\", line 156, in build\n",
      "    self._build()  File \"/Users/rachelfurner/anaconda3/lib/python3.6/site-packages/gpflow/params/dataholders.py\", line 91, in _build\n",
      "    self._is_initialized_tensor = tf.is_variable_initialized(tensor)  File \"/Users/rachelfurner/anaconda3/lib/python3.6/site-packages/tensorflow/python/util/tf_should_use.py\", line 193, in wrapped\n",
      "    return _add_should_use_warning(fn(*args, **kwargs))\n",
      "==================================\n"
     ]
    },
    {
     "name": "stderr",
     "output_type": "stream",
     "text": [
      "ERROR:tensorflow:==================================\n",
      "Object was never used (type <class 'tensorflow.python.framework.ops.Tensor'>):\n",
      "<tf.Tensor 'GPR-5d477b57-190/X/IsVariableInitialized:0' shape=() dtype=bool>\n",
      "If you want to mark it as used call its \"mark_used()\" method.\n",
      "It was originally created here:\n",
      "  File \"/Users/rachelfurner/anaconda3/lib/python3.6/site-packages/IPython/core/interactiveshell.py\", line 3316, in run_code\n",
      "    return outflag  File \"<ipython-input-101-413c247d9f81>\", line 22, in <module>\n",
      "    model = gpflow.models.GPR(inputs.astype('float64'), outputs.astype('float64'), kern=k )  File \"/Users/rachelfurner/anaconda3/lib/python3.6/site-packages/gpflow/core/compilable.py\", line 91, in __init__\n",
      "    self.initialize(force=True)  File \"/Users/rachelfurner/anaconda3/lib/python3.6/site-packages/gpflow/core/node.py\", line 156, in build\n",
      "    self._build()  File \"/Users/rachelfurner/anaconda3/lib/python3.6/site-packages/gpflow/models/model.py\", line 83, in _build\n",
      "    self._objective = objective  File \"/Users/rachelfurner/anaconda3/lib/python3.6/site-packages/gpflow/params/parameterized.py\", line 302, in _build\n",
      "    self._prior_tensor = self._build_prior(priors)  File \"/Users/rachelfurner/anaconda3/lib/python3.6/site-packages/gpflow/core/node.py\", line 156, in build\n",
      "    self._build()  File \"/Users/rachelfurner/anaconda3/lib/python3.6/site-packages/gpflow/params/dataholders.py\", line 91, in _build\n",
      "    self._is_initialized_tensor = tf.is_variable_initialized(tensor)  File \"/Users/rachelfurner/anaconda3/lib/python3.6/site-packages/tensorflow/python/util/tf_should_use.py\", line 193, in wrapped\n",
      "    return _add_should_use_warning(fn(*args, **kwargs))\n",
      "==================================\n"
     ]
    },
    {
     "name": "stdout",
     "output_type": "stream",
     "text": [
      "ERROR:tensorflow:==================================\n",
      "Object was never used (type <class 'tensorflow.python.framework.ops.Tensor'>):\n",
      "<tf.Tensor 'GPR-226e631c-180/X/IsVariableInitialized:0' shape=() dtype=bool>\n",
      "If you want to mark it as used call its \"mark_used()\" method.\n",
      "It was originally created here:\n",
      "  File \"/Users/rachelfurner/anaconda3/lib/python3.6/site-packages/IPython/core/interactiveshell.py\", line 3316, in run_code\n",
      "    return outflag  File \"<ipython-input-100-f5e215cd7aa9>\", line 25, in <module>\n",
      "    model = gpflow.models.GPR(inputs.astype('float64'), outputs.astype('float64'), kern=k )  File \"/Users/rachelfurner/anaconda3/lib/python3.6/site-packages/gpflow/core/compilable.py\", line 91, in __init__\n",
      "    self.initialize(force=True)  File \"/Users/rachelfurner/anaconda3/lib/python3.6/site-packages/gpflow/core/node.py\", line 156, in build\n",
      "    self._build()  File \"/Users/rachelfurner/anaconda3/lib/python3.6/site-packages/gpflow/models/model.py\", line 83, in _build\n",
      "    self._objective = objective  File \"/Users/rachelfurner/anaconda3/lib/python3.6/site-packages/gpflow/params/parameterized.py\", line 302, in _build\n",
      "    self._prior_tensor = self._build_prior(priors)  File \"/Users/rachelfurner/anaconda3/lib/python3.6/site-packages/gpflow/core/node.py\", line 156, in build\n",
      "    self._build()  File \"/Users/rachelfurner/anaconda3/lib/python3.6/site-packages/gpflow/params/dataholders.py\", line 91, in _build\n",
      "    self._is_initialized_tensor = tf.is_variable_initialized(tensor)  File \"/Users/rachelfurner/anaconda3/lib/python3.6/site-packages/tensorflow/python/util/tf_should_use.py\", line 193, in wrapped\n",
      "    return _add_should_use_warning(fn(*args, **kwargs))\n",
      "==================================\n"
     ]
    },
    {
     "name": "stderr",
     "output_type": "stream",
     "text": [
      "ERROR:tensorflow:==================================\n",
      "Object was never used (type <class 'tensorflow.python.framework.ops.Tensor'>):\n",
      "<tf.Tensor 'GPR-226e631c-180/X/IsVariableInitialized:0' shape=() dtype=bool>\n",
      "If you want to mark it as used call its \"mark_used()\" method.\n",
      "It was originally created here:\n",
      "  File \"/Users/rachelfurner/anaconda3/lib/python3.6/site-packages/IPython/core/interactiveshell.py\", line 3316, in run_code\n",
      "    return outflag  File \"<ipython-input-100-f5e215cd7aa9>\", line 25, in <module>\n",
      "    model = gpflow.models.GPR(inputs.astype('float64'), outputs.astype('float64'), kern=k )  File \"/Users/rachelfurner/anaconda3/lib/python3.6/site-packages/gpflow/core/compilable.py\", line 91, in __init__\n",
      "    self.initialize(force=True)  File \"/Users/rachelfurner/anaconda3/lib/python3.6/site-packages/gpflow/core/node.py\", line 156, in build\n",
      "    self._build()  File \"/Users/rachelfurner/anaconda3/lib/python3.6/site-packages/gpflow/models/model.py\", line 83, in _build\n",
      "    self._objective = objective  File \"/Users/rachelfurner/anaconda3/lib/python3.6/site-packages/gpflow/params/parameterized.py\", line 302, in _build\n",
      "    self._prior_tensor = self._build_prior(priors)  File \"/Users/rachelfurner/anaconda3/lib/python3.6/site-packages/gpflow/core/node.py\", line 156, in build\n",
      "    self._build()  File \"/Users/rachelfurner/anaconda3/lib/python3.6/site-packages/gpflow/params/dataholders.py\", line 91, in _build\n",
      "    self._is_initialized_tensor = tf.is_variable_initialized(tensor)  File \"/Users/rachelfurner/anaconda3/lib/python3.6/site-packages/tensorflow/python/util/tf_should_use.py\", line 193, in wrapped\n",
      "    return _add_should_use_warning(fn(*args, **kwargs))\n",
      "==================================\n"
     ]
    },
    {
     "name": "stdout",
     "output_type": "stream",
     "text": [
      "ERROR:tensorflow:==================================\n",
      "Object was never used (type <class 'tensorflow.python.framework.ops.Tensor'>):\n",
      "<tf.Tensor 'Matern52-f0c9d09d-173/variance/IsVariableInitialized:0' shape=() dtype=bool>\n",
      "If you want to mark it as used call its \"mark_used()\" method.\n",
      "It was originally created here:\n",
      "  File \"/Users/rachelfurner/anaconda3/lib/python3.6/site-packages/IPython/core/interactiveshell.py\", line 3316, in run_code\n",
      "    return outflag  File \"<ipython-input-100-f5e215cd7aa9>\", line 21, in <module>\n",
      "    k = gpflow.kernels.Matern52(1, lengthscales=0.3)  File \"/Users/rachelfurner/anaconda3/lib/python3.6/site-packages/gpflow/core/compilable.py\", line 91, in __init__\n",
      "    self.initialize(force=True)  File \"/Users/rachelfurner/anaconda3/lib/python3.6/site-packages/gpflow/core/node.py\", line 156, in build\n",
      "    self._build()  File \"/Users/rachelfurner/anaconda3/lib/python3.6/site-packages/gpflow/params/parameterized.py\", line 302, in _build\n",
      "    self._prior_tensor = self._build_prior(priors)  File \"/Users/rachelfurner/anaconda3/lib/python3.6/site-packages/gpflow/core/node.py\", line 156, in build\n",
      "    self._build()  File \"/Users/rachelfurner/anaconda3/lib/python3.6/site-packages/gpflow/params/parameter.py\", line 370, in _build\n",
      "    self._prior_tensor = prior  File \"/Users/rachelfurner/anaconda3/lib/python3.6/site-packages/tensorflow/python/util/tf_should_use.py\", line 193, in wrapped\n",
      "    return _add_should_use_warning(fn(*args, **kwargs))\n",
      "==================================\n"
     ]
    },
    {
     "name": "stderr",
     "output_type": "stream",
     "text": [
      "ERROR:tensorflow:==================================\n",
      "Object was never used (type <class 'tensorflow.python.framework.ops.Tensor'>):\n",
      "<tf.Tensor 'Matern52-f0c9d09d-173/variance/IsVariableInitialized:0' shape=() dtype=bool>\n",
      "If you want to mark it as used call its \"mark_used()\" method.\n",
      "It was originally created here:\n",
      "  File \"/Users/rachelfurner/anaconda3/lib/python3.6/site-packages/IPython/core/interactiveshell.py\", line 3316, in run_code\n",
      "    return outflag  File \"<ipython-input-100-f5e215cd7aa9>\", line 21, in <module>\n",
      "    k = gpflow.kernels.Matern52(1, lengthscales=0.3)  File \"/Users/rachelfurner/anaconda3/lib/python3.6/site-packages/gpflow/core/compilable.py\", line 91, in __init__\n",
      "    self.initialize(force=True)  File \"/Users/rachelfurner/anaconda3/lib/python3.6/site-packages/gpflow/core/node.py\", line 156, in build\n",
      "    self._build()  File \"/Users/rachelfurner/anaconda3/lib/python3.6/site-packages/gpflow/params/parameterized.py\", line 302, in _build\n",
      "    self._prior_tensor = self._build_prior(priors)  File \"/Users/rachelfurner/anaconda3/lib/python3.6/site-packages/gpflow/core/node.py\", line 156, in build\n",
      "    self._build()  File \"/Users/rachelfurner/anaconda3/lib/python3.6/site-packages/gpflow/params/parameter.py\", line 370, in _build\n",
      "    self._prior_tensor = prior  File \"/Users/rachelfurner/anaconda3/lib/python3.6/site-packages/tensorflow/python/util/tf_should_use.py\", line 193, in wrapped\n",
      "    return _add_should_use_warning(fn(*args, **kwargs))\n",
      "==================================\n"
     ]
    },
    {
     "name": "stdout",
     "output_type": "stream",
     "text": [
      "ERROR:tensorflow:==================================\n",
      "Object was never used (type <class 'tensorflow.python.framework.ops.Tensor'>):\n",
      "<tf.Tensor 'Matern52-f0c9d09d-173/lengthscales/IsVariableInitialized:0' shape=() dtype=bool>\n",
      "If you want to mark it as used call its \"mark_used()\" method.\n",
      "It was originally created here:\n",
      "  File \"/Users/rachelfurner/anaconda3/lib/python3.6/site-packages/IPython/core/interactiveshell.py\", line 3316, in run_code\n",
      "    return outflag  File \"<ipython-input-100-f5e215cd7aa9>\", line 21, in <module>\n",
      "    k = gpflow.kernels.Matern52(1, lengthscales=0.3)  File \"/Users/rachelfurner/anaconda3/lib/python3.6/site-packages/gpflow/core/compilable.py\", line 91, in __init__\n",
      "    self.initialize(force=True)  File \"/Users/rachelfurner/anaconda3/lib/python3.6/site-packages/gpflow/core/node.py\", line 156, in build\n",
      "    self._build()  File \"/Users/rachelfurner/anaconda3/lib/python3.6/site-packages/gpflow/params/parameterized.py\", line 302, in _build\n",
      "    self._prior_tensor = self._build_prior(priors)  File \"/Users/rachelfurner/anaconda3/lib/python3.6/site-packages/gpflow/core/node.py\", line 156, in build\n",
      "    self._build()  File \"/Users/rachelfurner/anaconda3/lib/python3.6/site-packages/gpflow/params/parameter.py\", line 370, in _build\n",
      "    self._prior_tensor = prior  File \"/Users/rachelfurner/anaconda3/lib/python3.6/site-packages/tensorflow/python/util/tf_should_use.py\", line 193, in wrapped\n",
      "    return _add_should_use_warning(fn(*args, **kwargs))\n",
      "==================================\n"
     ]
    },
    {
     "name": "stderr",
     "output_type": "stream",
     "text": [
      "ERROR:tensorflow:==================================\n",
      "Object was never used (type <class 'tensorflow.python.framework.ops.Tensor'>):\n",
      "<tf.Tensor 'Matern52-f0c9d09d-173/lengthscales/IsVariableInitialized:0' shape=() dtype=bool>\n",
      "If you want to mark it as used call its \"mark_used()\" method.\n",
      "It was originally created here:\n",
      "  File \"/Users/rachelfurner/anaconda3/lib/python3.6/site-packages/IPython/core/interactiveshell.py\", line 3316, in run_code\n",
      "    return outflag  File \"<ipython-input-100-f5e215cd7aa9>\", line 21, in <module>\n",
      "    k = gpflow.kernels.Matern52(1, lengthscales=0.3)  File \"/Users/rachelfurner/anaconda3/lib/python3.6/site-packages/gpflow/core/compilable.py\", line 91, in __init__\n",
      "    self.initialize(force=True)  File \"/Users/rachelfurner/anaconda3/lib/python3.6/site-packages/gpflow/core/node.py\", line 156, in build\n",
      "    self._build()  File \"/Users/rachelfurner/anaconda3/lib/python3.6/site-packages/gpflow/params/parameterized.py\", line 302, in _build\n",
      "    self._prior_tensor = self._build_prior(priors)  File \"/Users/rachelfurner/anaconda3/lib/python3.6/site-packages/gpflow/core/node.py\", line 156, in build\n",
      "    self._build()  File \"/Users/rachelfurner/anaconda3/lib/python3.6/site-packages/gpflow/params/parameter.py\", line 370, in _build\n",
      "    self._prior_tensor = prior  File \"/Users/rachelfurner/anaconda3/lib/python3.6/site-packages/tensorflow/python/util/tf_should_use.py\", line 193, in wrapped\n",
      "    return _add_should_use_warning(fn(*args, **kwargs))\n",
      "==================================\n"
     ]
    },
    {
     "name": "stdout",
     "output_type": "stream",
     "text": [
      "ERROR:tensorflow:==================================\n",
      "Object was never used (type <class 'tensorflow.python.framework.ops.Tensor'>):\n",
      "<tf.Tensor 'GPR-b4629359-170/X/IsVariableInitialized:0' shape=() dtype=bool>\n",
      "If you want to mark it as used call its \"mark_used()\" method.\n",
      "It was originally created here:\n",
      "  File \"/Users/rachelfurner/anaconda3/lib/python3.6/site-packages/IPython/core/interactiveshell.py\", line 3316, in run_code\n",
      "    return outflag  File \"<ipython-input-99-d6ac8576eafe>\", line 25, in <module>\n",
      "    model = gpflow.models.GPR(inputs, outputs, kern=k )  File \"/Users/rachelfurner/anaconda3/lib/python3.6/site-packages/gpflow/core/compilable.py\", line 90, in __init__\n",
      "    self.build()  File \"/Users/rachelfurner/anaconda3/lib/python3.6/site-packages/gpflow/core/node.py\", line 156, in build\n",
      "    self._build()  File \"/Users/rachelfurner/anaconda3/lib/python3.6/site-packages/gpflow/models/model.py\", line 79, in _build\n",
      "    likelihood = self._build_likelihood()  File \"/Users/rachelfurner/anaconda3/lib/python3.6/site-packages/gpflow/params/parameterized.py\", line 302, in _build\n",
      "    self._prior_tensor = self._build_prior(priors)  File \"/Users/rachelfurner/anaconda3/lib/python3.6/site-packages/gpflow/core/node.py\", line 156, in build\n",
      "    self._build()  File \"/Users/rachelfurner/anaconda3/lib/python3.6/site-packages/gpflow/params/dataholders.py\", line 91, in _build\n",
      "    self._is_initialized_tensor = tf.is_variable_initialized(tensor)  File \"/Users/rachelfurner/anaconda3/lib/python3.6/site-packages/tensorflow/python/util/tf_should_use.py\", line 193, in wrapped\n",
      "    return _add_should_use_warning(fn(*args, **kwargs))\n",
      "==================================\n"
     ]
    },
    {
     "name": "stderr",
     "output_type": "stream",
     "text": [
      "ERROR:tensorflow:==================================\n",
      "Object was never used (type <class 'tensorflow.python.framework.ops.Tensor'>):\n",
      "<tf.Tensor 'GPR-b4629359-170/X/IsVariableInitialized:0' shape=() dtype=bool>\n",
      "If you want to mark it as used call its \"mark_used()\" method.\n",
      "It was originally created here:\n",
      "  File \"/Users/rachelfurner/anaconda3/lib/python3.6/site-packages/IPython/core/interactiveshell.py\", line 3316, in run_code\n",
      "    return outflag  File \"<ipython-input-99-d6ac8576eafe>\", line 25, in <module>\n",
      "    model = gpflow.models.GPR(inputs, outputs, kern=k )  File \"/Users/rachelfurner/anaconda3/lib/python3.6/site-packages/gpflow/core/compilable.py\", line 90, in __init__\n",
      "    self.build()  File \"/Users/rachelfurner/anaconda3/lib/python3.6/site-packages/gpflow/core/node.py\", line 156, in build\n",
      "    self._build()  File \"/Users/rachelfurner/anaconda3/lib/python3.6/site-packages/gpflow/models/model.py\", line 79, in _build\n",
      "    likelihood = self._build_likelihood()  File \"/Users/rachelfurner/anaconda3/lib/python3.6/site-packages/gpflow/params/parameterized.py\", line 302, in _build\n",
      "    self._prior_tensor = self._build_prior(priors)  File \"/Users/rachelfurner/anaconda3/lib/python3.6/site-packages/gpflow/core/node.py\", line 156, in build\n",
      "    self._build()  File \"/Users/rachelfurner/anaconda3/lib/python3.6/site-packages/gpflow/params/dataholders.py\", line 91, in _build\n",
      "    self._is_initialized_tensor = tf.is_variable_initialized(tensor)  File \"/Users/rachelfurner/anaconda3/lib/python3.6/site-packages/tensorflow/python/util/tf_should_use.py\", line 193, in wrapped\n",
      "    return _add_should_use_warning(fn(*args, **kwargs))\n",
      "==================================\n"
     ]
    },
    {
     "name": "stdout",
     "output_type": "stream",
     "text": [
      "ERROR:tensorflow:==================================\n",
      "Object was never used (type <class 'tensorflow.python.framework.ops.Tensor'>):\n",
      "<tf.Tensor 'GPR-b4629359-170/Y/IsVariableInitialized:0' shape=() dtype=bool>\n",
      "If you want to mark it as used call its \"mark_used()\" method.\n",
      "It was originally created here:\n",
      "  File \"/Users/rachelfurner/anaconda3/lib/python3.6/site-packages/IPython/core/interactiveshell.py\", line 3316, in run_code\n",
      "    return outflag  File \"<ipython-input-99-d6ac8576eafe>\", line 25, in <module>\n",
      "    model = gpflow.models.GPR(inputs, outputs, kern=k )  File \"/Users/rachelfurner/anaconda3/lib/python3.6/site-packages/gpflow/core/compilable.py\", line 90, in __init__\n",
      "    self.build()  File \"/Users/rachelfurner/anaconda3/lib/python3.6/site-packages/gpflow/core/node.py\", line 156, in build\n",
      "    self._build()  File \"/Users/rachelfurner/anaconda3/lib/python3.6/site-packages/gpflow/models/model.py\", line 79, in _build\n",
      "    likelihood = self._build_likelihood()  File \"/Users/rachelfurner/anaconda3/lib/python3.6/site-packages/gpflow/params/parameterized.py\", line 302, in _build\n",
      "    self._prior_tensor = self._build_prior(priors)  File \"/Users/rachelfurner/anaconda3/lib/python3.6/site-packages/gpflow/core/node.py\", line 156, in build\n",
      "    self._build()  File \"/Users/rachelfurner/anaconda3/lib/python3.6/site-packages/gpflow/params/dataholders.py\", line 91, in _build\n",
      "    self._is_initialized_tensor = tf.is_variable_initialized(tensor)  File \"/Users/rachelfurner/anaconda3/lib/python3.6/site-packages/tensorflow/python/util/tf_should_use.py\", line 193, in wrapped\n",
      "    return _add_should_use_warning(fn(*args, **kwargs))\n",
      "==================================\n"
     ]
    },
    {
     "name": "stderr",
     "output_type": "stream",
     "text": [
      "ERROR:tensorflow:==================================\n",
      "Object was never used (type <class 'tensorflow.python.framework.ops.Tensor'>):\n",
      "<tf.Tensor 'GPR-b4629359-170/Y/IsVariableInitialized:0' shape=() dtype=bool>\n",
      "If you want to mark it as used call its \"mark_used()\" method.\n",
      "It was originally created here:\n",
      "  File \"/Users/rachelfurner/anaconda3/lib/python3.6/site-packages/IPython/core/interactiveshell.py\", line 3316, in run_code\n",
      "    return outflag  File \"<ipython-input-99-d6ac8576eafe>\", line 25, in <module>\n",
      "    model = gpflow.models.GPR(inputs, outputs, kern=k )  File \"/Users/rachelfurner/anaconda3/lib/python3.6/site-packages/gpflow/core/compilable.py\", line 90, in __init__\n",
      "    self.build()  File \"/Users/rachelfurner/anaconda3/lib/python3.6/site-packages/gpflow/core/node.py\", line 156, in build\n",
      "    self._build()  File \"/Users/rachelfurner/anaconda3/lib/python3.6/site-packages/gpflow/models/model.py\", line 79, in _build\n",
      "    likelihood = self._build_likelihood()  File \"/Users/rachelfurner/anaconda3/lib/python3.6/site-packages/gpflow/params/parameterized.py\", line 302, in _build\n",
      "    self._prior_tensor = self._build_prior(priors)  File \"/Users/rachelfurner/anaconda3/lib/python3.6/site-packages/gpflow/core/node.py\", line 156, in build\n",
      "    self._build()  File \"/Users/rachelfurner/anaconda3/lib/python3.6/site-packages/gpflow/params/dataholders.py\", line 91, in _build\n",
      "    self._is_initialized_tensor = tf.is_variable_initialized(tensor)  File \"/Users/rachelfurner/anaconda3/lib/python3.6/site-packages/tensorflow/python/util/tf_should_use.py\", line 193, in wrapped\n",
      "    return _add_should_use_warning(fn(*args, **kwargs))\n",
      "==================================\n"
     ]
    },
    {
     "name": "stdout",
     "output_type": "stream",
     "text": [
      "ERROR:tensorflow:==================================\n",
      "Object was never used (type <class 'tensorflow.python.framework.ops.Tensor'>):\n",
      "<tf.Tensor 'Matern52-28ec26b7-163/variance/IsVariableInitialized:0' shape=() dtype=bool>\n",
      "If you want to mark it as used call its \"mark_used()\" method.\n",
      "It was originally created here:\n",
      "  File \"/Users/rachelfurner/anaconda3/lib/python3.6/site-packages/IPython/core/interactiveshell.py\", line 3316, in run_code\n",
      "    return outflag  File \"<ipython-input-99-d6ac8576eafe>\", line 21, in <module>\n",
      "    k = gpflow.kernels.Matern52(1, lengthscales=0.3)  File \"/Users/rachelfurner/anaconda3/lib/python3.6/site-packages/gpflow/core/compilable.py\", line 91, in __init__\n",
      "    self.initialize(force=True)  File \"/Users/rachelfurner/anaconda3/lib/python3.6/site-packages/gpflow/core/node.py\", line 156, in build\n",
      "    self._build()  File \"/Users/rachelfurner/anaconda3/lib/python3.6/site-packages/gpflow/params/parameterized.py\", line 302, in _build\n",
      "    self._prior_tensor = self._build_prior(priors)  File \"/Users/rachelfurner/anaconda3/lib/python3.6/site-packages/gpflow/core/node.py\", line 156, in build\n",
      "    self._build()  File \"/Users/rachelfurner/anaconda3/lib/python3.6/site-packages/gpflow/params/parameter.py\", line 370, in _build\n",
      "    self._prior_tensor = prior  File \"/Users/rachelfurner/anaconda3/lib/python3.6/site-packages/tensorflow/python/util/tf_should_use.py\", line 193, in wrapped\n",
      "    return _add_should_use_warning(fn(*args, **kwargs))\n",
      "==================================\n"
     ]
    },
    {
     "name": "stderr",
     "output_type": "stream",
     "text": [
      "ERROR:tensorflow:==================================\n",
      "Object was never used (type <class 'tensorflow.python.framework.ops.Tensor'>):\n",
      "<tf.Tensor 'Matern52-28ec26b7-163/variance/IsVariableInitialized:0' shape=() dtype=bool>\n",
      "If you want to mark it as used call its \"mark_used()\" method.\n",
      "It was originally created here:\n",
      "  File \"/Users/rachelfurner/anaconda3/lib/python3.6/site-packages/IPython/core/interactiveshell.py\", line 3316, in run_code\n",
      "    return outflag  File \"<ipython-input-99-d6ac8576eafe>\", line 21, in <module>\n",
      "    k = gpflow.kernels.Matern52(1, lengthscales=0.3)  File \"/Users/rachelfurner/anaconda3/lib/python3.6/site-packages/gpflow/core/compilable.py\", line 91, in __init__\n",
      "    self.initialize(force=True)  File \"/Users/rachelfurner/anaconda3/lib/python3.6/site-packages/gpflow/core/node.py\", line 156, in build\n",
      "    self._build()  File \"/Users/rachelfurner/anaconda3/lib/python3.6/site-packages/gpflow/params/parameterized.py\", line 302, in _build\n",
      "    self._prior_tensor = self._build_prior(priors)  File \"/Users/rachelfurner/anaconda3/lib/python3.6/site-packages/gpflow/core/node.py\", line 156, in build\n",
      "    self._build()  File \"/Users/rachelfurner/anaconda3/lib/python3.6/site-packages/gpflow/params/parameter.py\", line 370, in _build\n",
      "    self._prior_tensor = prior  File \"/Users/rachelfurner/anaconda3/lib/python3.6/site-packages/tensorflow/python/util/tf_should_use.py\", line 193, in wrapped\n",
      "    return _add_should_use_warning(fn(*args, **kwargs))\n",
      "==================================\n"
     ]
    },
    {
     "name": "stdout",
     "output_type": "stream",
     "text": [
      "ERROR:tensorflow:==================================\n",
      "Object was never used (type <class 'tensorflow.python.framework.ops.Tensor'>):\n",
      "<tf.Tensor 'Matern52-28ec26b7-163/lengthscales/IsVariableInitialized:0' shape=() dtype=bool>\n",
      "If you want to mark it as used call its \"mark_used()\" method.\n",
      "It was originally created here:\n",
      "  File \"/Users/rachelfurner/anaconda3/lib/python3.6/site-packages/IPython/core/interactiveshell.py\", line 3316, in run_code\n",
      "    return outflag  File \"<ipython-input-99-d6ac8576eafe>\", line 21, in <module>\n",
      "    k = gpflow.kernels.Matern52(1, lengthscales=0.3)  File \"/Users/rachelfurner/anaconda3/lib/python3.6/site-packages/gpflow/core/compilable.py\", line 91, in __init__\n",
      "    self.initialize(force=True)  File \"/Users/rachelfurner/anaconda3/lib/python3.6/site-packages/gpflow/core/node.py\", line 156, in build\n",
      "    self._build()  File \"/Users/rachelfurner/anaconda3/lib/python3.6/site-packages/gpflow/params/parameterized.py\", line 302, in _build\n",
      "    self._prior_tensor = self._build_prior(priors)  File \"/Users/rachelfurner/anaconda3/lib/python3.6/site-packages/gpflow/core/node.py\", line 156, in build\n",
      "    self._build()  File \"/Users/rachelfurner/anaconda3/lib/python3.6/site-packages/gpflow/params/parameter.py\", line 370, in _build\n",
      "    self._prior_tensor = prior  File \"/Users/rachelfurner/anaconda3/lib/python3.6/site-packages/tensorflow/python/util/tf_should_use.py\", line 193, in wrapped\n",
      "    return _add_should_use_warning(fn(*args, **kwargs))\n",
      "==================================\n"
     ]
    },
    {
     "name": "stderr",
     "output_type": "stream",
     "text": [
      "ERROR:tensorflow:==================================\n",
      "Object was never used (type <class 'tensorflow.python.framework.ops.Tensor'>):\n",
      "<tf.Tensor 'Matern52-28ec26b7-163/lengthscales/IsVariableInitialized:0' shape=() dtype=bool>\n",
      "If you want to mark it as used call its \"mark_used()\" method.\n",
      "It was originally created here:\n",
      "  File \"/Users/rachelfurner/anaconda3/lib/python3.6/site-packages/IPython/core/interactiveshell.py\", line 3316, in run_code\n",
      "    return outflag  File \"<ipython-input-99-d6ac8576eafe>\", line 21, in <module>\n",
      "    k = gpflow.kernels.Matern52(1, lengthscales=0.3)  File \"/Users/rachelfurner/anaconda3/lib/python3.6/site-packages/gpflow/core/compilable.py\", line 91, in __init__\n",
      "    self.initialize(force=True)  File \"/Users/rachelfurner/anaconda3/lib/python3.6/site-packages/gpflow/core/node.py\", line 156, in build\n",
      "    self._build()  File \"/Users/rachelfurner/anaconda3/lib/python3.6/site-packages/gpflow/params/parameterized.py\", line 302, in _build\n",
      "    self._prior_tensor = self._build_prior(priors)  File \"/Users/rachelfurner/anaconda3/lib/python3.6/site-packages/gpflow/core/node.py\", line 156, in build\n",
      "    self._build()  File \"/Users/rachelfurner/anaconda3/lib/python3.6/site-packages/gpflow/params/parameter.py\", line 370, in _build\n",
      "    self._prior_tensor = prior  File \"/Users/rachelfurner/anaconda3/lib/python3.6/site-packages/tensorflow/python/util/tf_should_use.py\", line 193, in wrapped\n",
      "    return _add_should_use_warning(fn(*args, **kwargs))\n",
      "==================================\n"
     ]
    },
    {
     "name": "stdout",
     "output_type": "stream",
     "text": [
      "ERROR:tensorflow:==================================\n",
      "Object was never used (type <class 'tensorflow.python.framework.ops.Tensor'>):\n",
      "<tf.Tensor 'GPR-b4629359-170/likelihood/variance/IsVariableInitialized:0' shape=() dtype=bool>\n",
      "If you want to mark it as used call its \"mark_used()\" method.\n",
      "It was originally created here:\n",
      "  File \"/Users/rachelfurner/anaconda3/lib/python3.6/site-packages/IPython/core/interactiveshell.py\", line 3316, in run_code\n",
      "    return outflag  File \"<ipython-input-99-d6ac8576eafe>\", line 25, in <module>\n",
      "    model = gpflow.models.GPR(inputs, outputs, kern=k )  File \"/Users/rachelfurner/anaconda3/lib/python3.6/site-packages/gpflow/core/compilable.py\", line 90, in __init__\n",
      "    self.build()  File \"/Users/rachelfurner/anaconda3/lib/python3.6/site-packages/gpflow/core/node.py\", line 156, in build\n",
      "    self._build()  File \"/Users/rachelfurner/anaconda3/lib/python3.6/site-packages/gpflow/models/model.py\", line 79, in _build\n",
      "    likelihood = self._build_likelihood()  File \"/Users/rachelfurner/anaconda3/lib/python3.6/site-packages/gpflow/params/parameterized.py\", line 302, in _build\n",
      "    self._prior_tensor = self._build_prior(priors)  File \"/Users/rachelfurner/anaconda3/lib/python3.6/site-packages/gpflow/core/node.py\", line 156, in build\n",
      "    self._build()  File \"/Users/rachelfurner/anaconda3/lib/python3.6/site-packages/gpflow/params/parameterized.py\", line 302, in _build\n",
      "    self._prior_tensor = self._build_prior(priors)  File \"/Users/rachelfurner/anaconda3/lib/python3.6/site-packages/gpflow/core/node.py\", line 156, in build\n",
      "    self._build()  File \"/Users/rachelfurner/anaconda3/lib/python3.6/site-packages/gpflow/params/parameter.py\", line 370, in _build\n",
      "    self._prior_tensor = prior  File \"/Users/rachelfurner/anaconda3/lib/python3.6/site-packages/tensorflow/python/util/tf_should_use.py\", line 193, in wrapped\n",
      "    return _add_should_use_warning(fn(*args, **kwargs))\n",
      "==================================\n"
     ]
    },
    {
     "name": "stderr",
     "output_type": "stream",
     "text": [
      "ERROR:tensorflow:==================================\n",
      "Object was never used (type <class 'tensorflow.python.framework.ops.Tensor'>):\n",
      "<tf.Tensor 'GPR-b4629359-170/likelihood/variance/IsVariableInitialized:0' shape=() dtype=bool>\n",
      "If you want to mark it as used call its \"mark_used()\" method.\n",
      "It was originally created here:\n",
      "  File \"/Users/rachelfurner/anaconda3/lib/python3.6/site-packages/IPython/core/interactiveshell.py\", line 3316, in run_code\n",
      "    return outflag  File \"<ipython-input-99-d6ac8576eafe>\", line 25, in <module>\n",
      "    model = gpflow.models.GPR(inputs, outputs, kern=k )  File \"/Users/rachelfurner/anaconda3/lib/python3.6/site-packages/gpflow/core/compilable.py\", line 90, in __init__\n",
      "    self.build()  File \"/Users/rachelfurner/anaconda3/lib/python3.6/site-packages/gpflow/core/node.py\", line 156, in build\n",
      "    self._build()  File \"/Users/rachelfurner/anaconda3/lib/python3.6/site-packages/gpflow/models/model.py\", line 79, in _build\n",
      "    likelihood = self._build_likelihood()  File \"/Users/rachelfurner/anaconda3/lib/python3.6/site-packages/gpflow/params/parameterized.py\", line 302, in _build\n",
      "    self._prior_tensor = self._build_prior(priors)  File \"/Users/rachelfurner/anaconda3/lib/python3.6/site-packages/gpflow/core/node.py\", line 156, in build\n",
      "    self._build()  File \"/Users/rachelfurner/anaconda3/lib/python3.6/site-packages/gpflow/params/parameterized.py\", line 302, in _build\n",
      "    self._prior_tensor = self._build_prior(priors)  File \"/Users/rachelfurner/anaconda3/lib/python3.6/site-packages/gpflow/core/node.py\", line 156, in build\n",
      "    self._build()  File \"/Users/rachelfurner/anaconda3/lib/python3.6/site-packages/gpflow/params/parameter.py\", line 370, in _build\n",
      "    self._prior_tensor = prior  File \"/Users/rachelfurner/anaconda3/lib/python3.6/site-packages/tensorflow/python/util/tf_should_use.py\", line 193, in wrapped\n",
      "    return _add_should_use_warning(fn(*args, **kwargs))\n",
      "==================================\n"
     ]
    },
    {
     "data": {
      "image/png": "[encoded data removed]",
      "text/plain": [
       "<Figure size 432x288 with 2 Axes>"
      ]
     },
     "metadata": {
      "needs_background": "light"
     },
     "output_type": "display_data"
    }
   ],
   "source": [
    "ds.Temp\n",
    "fig, ax = plt.subplots(ncols=1)\n",
    "ds.Temp.isel(T=0,Z=0).plot(cmap='OrRd')\n",
    "fig.savefig('start.png')\n"
   ]
  },
  {
   "cell_type": "code",
   "execution_count": 116,
   "metadata": {},
   "outputs": [
    {
     "data": {
      "image/png": "[encoded data removed]",
      "text/plain": [
       "<Figure size 432x288 with 2 Axes>"
      ]
     },
     "metadata": {
      "needs_background": "light"
     },
     "output_type": "display_data"
    }
   ],
   "source": [
    "fig, ax = plt.subplots(ncols=1)\n",
    "ds.Temp.isel(T=StepSize,Z=0).plot(cmap='OrRd')\n",
    "fig.savefig('end.png')\n"
   ]
  },
  {
   "cell_type": "code",
   "execution_count": 117,
   "metadata": {},
   "outputs": [
    {
     "data": {
      "image/png": "[encoded data removed]",
      "text/plain": [
       "<Figure size 432x288 with 2 Axes>"
      ]
     },
     "metadata": {
      "needs_background": "light"
     },
     "output_type": "display_data"
    }
   ],
   "source": [
    "fig, ax = plt.subplots(ncols=1)\n",
    "(ds.Temp.isel(T=StepSize,Z=0)-ds.Temp.isel(T=0,Z=0)).plot(cmap='RdBu' )\n",
    "fig.savefig('diff.png')"
   ]
  },
  {
   "cell_type": "markdown",
   "metadata": {},
   "source": [
    "Put this into X and Y arrays, ready for model to read\n",
    "\n",
    "If using multiple input variables pad with NaN's so the arrays are all the same size (not done above, as it changes them to arrays, and easier to leave as lists) - not needed when just looking at temp"
   ]
  },
  {
   "cell_type": "code",
   "execution_count": 118,
   "metadata": {},
   "outputs": [
    {
     "name": "stdout",
     "output_type": "stream",
     "text": [
      "(9, 42, 78, 11)\n",
      "(9, 42, 78, 11)\n"
     ]
    }
   ],
   "source": [
    "X=[]\n",
    "Y=[]\n",
    "\n",
    "#for feat1,feat2,feat3,feat4,feat5,feat6,feat7,feat8,label in training_data:\n",
    "#        X.append([\n",
    "#            np.pad(feat1.data, ((0,0),(0,1),(0,1)),'constant', constant_values=('NaN')),\n",
    "#            np.pad(feat2.data, ((0,0),(0,1),(0,1)),'constant', constant_values=('NaN')),\n",
    "#            np.pad(feat3.data, ((0,0),(0,1),(0,1)),'constant', constant_values=('NaN')),\n",
    "#            np.pad(feat4.data, ((0,0),(0,1),(0,1)),'constant', constant_values=('NaN')),\n",
    "#            np.pad(feat5.data, ((0,0),(0,1),(0,0)),'constant', constant_values=('NaN')),\n",
    "#            np.pad(feat6.data, ((0,0),(0,1),(0,0)),'constant', constant_values=('NaN')),\n",
    "#            np.pad(feat7.data, ((0,0),(0,0),(0,1)),'constant', constant_values=('NaN')),\n",
    "#            np.pad(feat8.data, ((0,0),(0,0),(0,1)),'constant', constant_values=('NaN')),\n",
    "#             ])\n",
    "#        Y.append(np.pad(label.data, ((0,0),(0,1),(0,1)),'constant', constant_values=('NaN')))\n",
    "\n",
    "for feat1,feat2,label in training_data:\n",
    "        #X.append([feat1.data feat2.data])\n",
    "        X.append(feat1.data)\n",
    "        Y.append(label.data)\n",
    "\n",
    "# convert to arrays, as model wont accept a list\n",
    "#X=np.array(X).transpose(0, 2, 3, 4, 1)\n",
    "X=np.array(X)\n",
    "Y=np.array(Y)\n",
    "\n",
    "print(X.shape)\n",
    "print(Y.shape)"
   ]
  },
  {
   "cell_type": "markdown",
   "metadata": {},
   "source": [
    "Normalise data"
   ]
  },
  {
   "cell_type": "code",
   "execution_count": 119,
   "metadata": {},
   "outputs": [
    {
     "name": "stdout",
     "output_type": "stream",
     "text": [
      "(42, 78, 11)\n"
     ]
    }
   ],
   "source": [
    "def normalise_data(X):\n",
    "    X=tf.keras/utils.normalize(X, axis=1)\n",
    "    return X\n",
    "\n",
    "print(X.shape[1:])"
   ]
  },
  {
   "cell_type": "markdown",
   "metadata": {},
   "source": [
    "Trying a GP regressor for a single data point"
   ]
  },
  {
   "cell_type": "code",
   "execution_count": 124,
   "metadata": {},
   "outputs": [
    {
     "name": "stderr",
     "output_type": "stream",
     "text": [
      "WARNING:gpflow.logdensities:Shape of x must be 2D at computation.\n"
     ]
    },
    {
     "name": "stdout",
     "output_type": "stream",
     "text": [
      "training\n",
      "INFO:tensorflow:Optimization terminated with:\n",
      "  Message: b'CONVERGENCE: NORM_OF_PROJECTED_GRADIENT_<=_PGTOL'\n",
      "  Objective function value: -52.747964\n",
      "  Number of iterations: 16\n",
      "  Number of functions evaluations: 19\n"
     ]
    },
    {
     "name": "stderr",
     "output_type": "stream",
     "text": [
      "INFO:tensorflow:Optimization terminated with:\n",
      "  Message: b'CONVERGENCE: NORM_OF_PROJECTED_GRADIENT_<=_PGTOL'\n",
      "  Objective function value: -52.747964\n",
      "  Number of iterations: 16\n",
      "  Number of functions evaluations: 19\n"
     ]
    }
   ],
   "source": [
    "coordx = 1\n",
    "coordy = 1\n",
    "coordz = 1\n",
    "\n",
    "inputs = []\n",
    "outputs = []\n",
    "for time in range(StepSize, len(ds.T.data)-StepSize, SkipOver):\n",
    "    Xnew = ds.Temp.isel(T=time)\n",
    "    inputs.append([Xnew[coordx,coordy,coordz]])\n",
    "          #Xnew[coordx,coordy+1,coordz],   Xnew[coordx,coordy-1,coordz],\n",
    "          #Xnew[coordx+1,coordy,coordz],   Xnew[coordx-1,coordy,coordz],\n",
    "          #Xnew[coordx+1,coordy+1,coordz], Xnew[coordx-1,coordy-1,coordz],\n",
    "          #Xnew[coordx+1,coordy-1,coordz], Xnew[coordx-1,coordy+1,coordz]])\n",
    "    outputs.append([ds.Temp.isel(T=time+StepSize)[coordx+40,coordy+76,coordz+9]])\n",
    "\n",
    "\n",
    "inputs=np.array(inputs)\n",
    "outputs=np.array(outputs)\n",
    "\n",
    "\n",
    "k = gpflow.kernels.Matern52(1, lengthscales=0.3)\n",
    "model = gpflow.models.GPR(inputs.astype('float64'), outputs.astype('float64'), kern=k )\n",
    "\n",
    "#\n",
    "### Optimise\n",
    "print('training')\n",
    "gpflow.train.ScipyOptimizer().minimize(model, disp=True)\n"
   ]
  },
  {
   "cell_type": "markdown",
   "metadata": {},
   "source": [
    "Try a single Layer NN, with the identity (i.e. linear) as the activation function to test basic set up (persistance forecast)"
   ]
  },
  {
   "cell_type": "code",
   "execution_count": 54,
   "metadata": {},
   "outputs": [
    {
     "name": "stdout",
     "output_type": "stream",
     "text": [
      "Train on 24 samples, validate on 5 samples\n",
      "Epoch 1/3\n",
      "24/24 [==============================] - 0s 5ms/sample - loss: 1.6138e-05 - acc: 0.9861 - val_loss: 0.0016 - val_acc: 0.9385\n",
      "Epoch 2/3\n",
      "24/24 [==============================] - 0s 1ms/sample - loss: 1.6138e-05 - acc: 0.9861 - val_loss: 0.0016 - val_acc: 0.9385\n",
      "Epoch 3/3\n",
      "24/24 [==============================] - 0s 792us/sample - loss: 1.6138e-05 - acc: 0.9861 - val_loss: 0.0016 - val_acc: 0.9385\n"
     ]
    },
    {
     "data": {
      "text/plain": [
       "<tensorflow.python.keras.callbacks.History at 0xd46a25ac8>"
      ]
     },
     "execution_count": 54,
     "metadata": {},
     "output_type": "execute_result"
    }
   ],
   "source": [
    "model = Sequential()\n",
    "model.add(Activation('linear'))\n",
    "\n",
    "\n",
    "model.compile(loss='mean_squared_error',\n",
    "              optimizer='adam',\n",
    "              metrics=['accuracy'])\n",
    "\n",
    "model.fit(X, Y, batch_size=32, epochs=3, validation_split=0.15)"
   ]
  },
  {
   "cell_type": "code",
   "execution_count": null,
   "metadata": {},
   "outputs": [
    {
     "name": "stdout",
     "output_type": "stream",
     "text": [
      "Train on 2413 samples, validate on 426 samples\n",
      "WARNING:tensorflow:From /Users/rachelfurner/anaconda3/lib/python3.6/site-packages/tensorflow/python/ops/math_ops.py:3066: to_int32 (from tensorflow.python.ops.math_ops) is deprecated and will be removed in a future version.\n",
      "Instructions for updating:\n",
      "Use tf.cast instead.\n",
      "Epoch 1/3\n"
     ]
    }
   ],
   "source": [
    "model = Sequential()\n",
    "\n",
    "#'flatten' inputs\n",
    "model.add(Flatten())  \n",
    "# define first hidden layer\n",
    "model.add(Dense(36036))\n",
    "model.add(Activation('linear'))\n",
    "#reshape\n",
    "model.add(Reshape(Y.shape[1:]))\n",
    "\n",
    "model.compile(loss='mean_squared_error',\n",
    "              optimizer='adam',\n",
    "              metrics=['accuracy'])\n",
    "\n",
    "model.fit(X, Y, batch_size=32, epochs=3, validation_split=0.15)\n",
    "\n"
   ]
  },
  {
   "cell_type": "markdown",
   "metadata": {},
   "source": [
    "##### NN Attempt 1 - an autoencoder type approach\n",
    "\n",
    "I assume that data shape is important here, and so a CNN the way to go, and have tried this with pooling layers, to get something resembling an autoencoder.  Cannot yet get the output shape to match up with the y-fields, due to the odd number of layers, and the pooling vs upscaling does not return the original shape...\n",
    "\n",
    "Also, not convinced auto-encoder approach is best option here.\n"
   ]
  },
  {
   "cell_type": "code",
   "execution_count": 20,
   "metadata": {},
   "outputs": [
    {
     "ename": "ValueError",
     "evalue": "Input 0 of layer conv3d is incompatible with the layer: expected ndim=5, found ndim=4. Full shape received: [None, 42, 78, 11]",
     "output_type": "error",
     "traceback": [
      "\u001b[0;31m---------------------------------------------------------------------------\u001b[0m",
      "\u001b[0;31mValueError\u001b[0m                                Traceback (most recent call last)",
      "\u001b[0;32m<ipython-input-20-10df0f6faee7>\u001b[0m in \u001b[0;36m<module>\u001b[0;34m\u001b[0m\n\u001b[1;32m      2\u001b[0m \u001b[0;34m\u001b[0m\u001b[0m\n\u001b[1;32m      3\u001b[0m \u001b[0;31m#first downsample/encode\u001b[0m\u001b[0;34m\u001b[0m\u001b[0;34m\u001b[0m\u001b[0;34m\u001b[0m\u001b[0m\n\u001b[0;32m----> 4\u001b[0;31m \u001b[0mmodel\u001b[0m\u001b[0;34m.\u001b[0m\u001b[0madd\u001b[0m\u001b[0;34m(\u001b[0m\u001b[0mConv3D\u001b[0m\u001b[0;34m(\u001b[0m\u001b[0;36m32\u001b[0m\u001b[0;34m,\u001b[0m \u001b[0;34m(\u001b[0m\u001b[0;36m3\u001b[0m\u001b[0;34m,\u001b[0m \u001b[0;36m3\u001b[0m\u001b[0;34m,\u001b[0m \u001b[0;36m3\u001b[0m\u001b[0;34m)\u001b[0m\u001b[0;34m,\u001b[0m \u001b[0minput_shape\u001b[0m\u001b[0;34m=\u001b[0m\u001b[0mX\u001b[0m\u001b[0;34m.\u001b[0m\u001b[0mshape\u001b[0m\u001b[0;34m[\u001b[0m\u001b[0;36m1\u001b[0m\u001b[0;34m:\u001b[0m\u001b[0;34m]\u001b[0m\u001b[0;34m,\u001b[0m \u001b[0mpadding\u001b[0m\u001b[0;34m=\u001b[0m\u001b[0;34m'same'\u001b[0m\u001b[0;34m)\u001b[0m\u001b[0;34m)\u001b[0m\u001b[0;34m\u001b[0m\u001b[0;34m\u001b[0m\u001b[0m\n\u001b[0m\u001b[1;32m      5\u001b[0m \u001b[0mmodel\u001b[0m\u001b[0;34m.\u001b[0m\u001b[0madd\u001b[0m\u001b[0;34m(\u001b[0m\u001b[0mActivation\u001b[0m\u001b[0;34m(\u001b[0m\u001b[0;34m'relu'\u001b[0m\u001b[0;34m)\u001b[0m\u001b[0;34m)\u001b[0m\u001b[0;34m\u001b[0m\u001b[0;34m\u001b[0m\u001b[0m\n\u001b[1;32m      6\u001b[0m \u001b[0mmodel\u001b[0m\u001b[0;34m.\u001b[0m\u001b[0madd\u001b[0m\u001b[0;34m(\u001b[0m\u001b[0mMaxPooling3D\u001b[0m\u001b[0;34m(\u001b[0m\u001b[0mpool_size\u001b[0m\u001b[0;34m=\u001b[0m\u001b[0;34m(\u001b[0m\u001b[0;36m2\u001b[0m\u001b[0;34m,\u001b[0m \u001b[0;36m2\u001b[0m\u001b[0;34m,\u001b[0m \u001b[0;36m2\u001b[0m\u001b[0;34m)\u001b[0m\u001b[0;34m,\u001b[0m \u001b[0mpadding\u001b[0m\u001b[0;34m=\u001b[0m\u001b[0;34m'same'\u001b[0m\u001b[0;34m)\u001b[0m\u001b[0;34m)\u001b[0m  \u001b[0;31m# output shape\u001b[0m\u001b[0;34m\u001b[0m\u001b[0;34m\u001b[0m\u001b[0m\n",
      "\u001b[0;32m~/anaconda3/lib/python3.6/site-packages/tensorflow/python/training/checkpointable/base.py\u001b[0m in \u001b[0;36m_method_wrapper\u001b[0;34m(self, *args, **kwargs)\u001b[0m\n\u001b[1;32m    440\u001b[0m     \u001b[0mself\u001b[0m\u001b[0;34m.\u001b[0m\u001b[0m_setattr_tracking\u001b[0m \u001b[0;34m=\u001b[0m \u001b[0;32mFalse\u001b[0m  \u001b[0;31m# pylint: disable=protected-access\u001b[0m\u001b[0;34m\u001b[0m\u001b[0;34m\u001b[0m\u001b[0m\n\u001b[1;32m    441\u001b[0m     \u001b[0;32mtry\u001b[0m\u001b[0;34m:\u001b[0m\u001b[0;34m\u001b[0m\u001b[0;34m\u001b[0m\u001b[0m\n\u001b[0;32m--> 442\u001b[0;31m       \u001b[0mmethod\u001b[0m\u001b[0;34m(\u001b[0m\u001b[0mself\u001b[0m\u001b[0;34m,\u001b[0m \u001b[0;34m*\u001b[0m\u001b[0margs\u001b[0m\u001b[0;34m,\u001b[0m \u001b[0;34m**\u001b[0m\u001b[0mkwargs\u001b[0m\u001b[0;34m)\u001b[0m\u001b[0;34m\u001b[0m\u001b[0;34m\u001b[0m\u001b[0m\n\u001b[0m\u001b[1;32m    443\u001b[0m     \u001b[0;32mfinally\u001b[0m\u001b[0;34m:\u001b[0m\u001b[0;34m\u001b[0m\u001b[0;34m\u001b[0m\u001b[0m\n\u001b[1;32m    444\u001b[0m       \u001b[0mself\u001b[0m\u001b[0;34m.\u001b[0m\u001b[0m_setattr_tracking\u001b[0m \u001b[0;34m=\u001b[0m \u001b[0mprevious_value\u001b[0m  \u001b[0;31m# pylint: disable=protected-access\u001b[0m\u001b[0;34m\u001b[0m\u001b[0;34m\u001b[0m\u001b[0m\n",
      "\u001b[0;32m~/anaconda3/lib/python3.6/site-packages/tensorflow/python/keras/engine/sequential.py\u001b[0m in \u001b[0;36madd\u001b[0;34m(self, layer)\u001b[0m\n\u001b[1;32m    162\u001b[0m           \u001b[0;31m# and create the node connecting the current layer\u001b[0m\u001b[0;34m\u001b[0m\u001b[0;34m\u001b[0m\u001b[0;34m\u001b[0m\u001b[0m\n\u001b[1;32m    163\u001b[0m           \u001b[0;31m# to the input layer we just created.\u001b[0m\u001b[0;34m\u001b[0m\u001b[0;34m\u001b[0m\u001b[0;34m\u001b[0m\u001b[0m\n\u001b[0;32m--> 164\u001b[0;31m           \u001b[0mlayer\u001b[0m\u001b[0;34m(\u001b[0m\u001b[0mx\u001b[0m\u001b[0;34m)\u001b[0m\u001b[0;34m\u001b[0m\u001b[0;34m\u001b[0m\u001b[0m\n\u001b[0m\u001b[1;32m    165\u001b[0m           \u001b[0mset_inputs\u001b[0m \u001b[0;34m=\u001b[0m \u001b[0;32mTrue\u001b[0m\u001b[0;34m\u001b[0m\u001b[0;34m\u001b[0m\u001b[0m\n\u001b[1;32m    166\u001b[0m \u001b[0;34m\u001b[0m\u001b[0m\n",
      "\u001b[0;32m~/anaconda3/lib/python3.6/site-packages/tensorflow/python/keras/engine/base_layer.py\u001b[0m in \u001b[0;36m__call__\u001b[0;34m(self, inputs, *args, **kwargs)\u001b[0m\n\u001b[1;32m    536\u001b[0m       \u001b[0;32mif\u001b[0m \u001b[0;32mnot\u001b[0m \u001b[0mself\u001b[0m\u001b[0;34m.\u001b[0m\u001b[0mbuilt\u001b[0m\u001b[0;34m:\u001b[0m\u001b[0;34m\u001b[0m\u001b[0;34m\u001b[0m\u001b[0m\n\u001b[1;32m    537\u001b[0m         \u001b[0;31m# Build layer if applicable (if the `build` method has been overridden).\u001b[0m\u001b[0;34m\u001b[0m\u001b[0;34m\u001b[0m\u001b[0;34m\u001b[0m\u001b[0m\n\u001b[0;32m--> 538\u001b[0;31m         \u001b[0mself\u001b[0m\u001b[0;34m.\u001b[0m\u001b[0m_maybe_build\u001b[0m\u001b[0;34m(\u001b[0m\u001b[0minputs\u001b[0m\u001b[0;34m)\u001b[0m\u001b[0;34m\u001b[0m\u001b[0;34m\u001b[0m\u001b[0m\n\u001b[0m\u001b[1;32m    539\u001b[0m         \u001b[0;31m# We must set self.built since user defined build functions are not\u001b[0m\u001b[0;34m\u001b[0m\u001b[0;34m\u001b[0m\u001b[0;34m\u001b[0m\u001b[0m\n\u001b[1;32m    540\u001b[0m         \u001b[0;31m# constrained to set self.built.\u001b[0m\u001b[0;34m\u001b[0m\u001b[0;34m\u001b[0m\u001b[0;34m\u001b[0m\u001b[0m\n",
      "\u001b[0;32m~/anaconda3/lib/python3.6/site-packages/tensorflow/python/keras/engine/base_layer.py\u001b[0m in \u001b[0;36m_maybe_build\u001b[0;34m(self, inputs)\u001b[0m\n\u001b[1;32m   1589\u001b[0m     \u001b[0;31m# Check input assumptions set before layer building, e.g. input rank.\u001b[0m\u001b[0;34m\u001b[0m\u001b[0;34m\u001b[0m\u001b[0;34m\u001b[0m\u001b[0m\n\u001b[1;32m   1590\u001b[0m     input_spec.assert_input_compatibility(\n\u001b[0;32m-> 1591\u001b[0;31m         self.input_spec, inputs, self.name)\n\u001b[0m\u001b[1;32m   1592\u001b[0m     \u001b[0minput_list\u001b[0m \u001b[0;34m=\u001b[0m \u001b[0mnest\u001b[0m\u001b[0;34m.\u001b[0m\u001b[0mflatten\u001b[0m\u001b[0;34m(\u001b[0m\u001b[0minputs\u001b[0m\u001b[0;34m)\u001b[0m\u001b[0;34m\u001b[0m\u001b[0;34m\u001b[0m\u001b[0m\n\u001b[1;32m   1593\u001b[0m     \u001b[0;32mif\u001b[0m \u001b[0minput_list\u001b[0m \u001b[0;32mand\u001b[0m \u001b[0mself\u001b[0m\u001b[0;34m.\u001b[0m\u001b[0m_dtype\u001b[0m \u001b[0;32mis\u001b[0m \u001b[0;32mNone\u001b[0m\u001b[0;34m:\u001b[0m\u001b[0;34m\u001b[0m\u001b[0;34m\u001b[0m\u001b[0m\n",
      "\u001b[0;32m~/anaconda3/lib/python3.6/site-packages/tensorflow/python/keras/engine/input_spec.py\u001b[0m in \u001b[0;36massert_input_compatibility\u001b[0;34m(input_spec, inputs, layer_name)\u001b[0m\n\u001b[1;32m    121\u001b[0m                          \u001b[0;34m'expected ndim='\u001b[0m \u001b[0;34m+\u001b[0m \u001b[0mstr\u001b[0m\u001b[0;34m(\u001b[0m\u001b[0mspec\u001b[0m\u001b[0;34m.\u001b[0m\u001b[0mndim\u001b[0m\u001b[0;34m)\u001b[0m \u001b[0;34m+\u001b[0m \u001b[0;34m', found ndim='\u001b[0m \u001b[0;34m+\u001b[0m\u001b[0;34m\u001b[0m\u001b[0;34m\u001b[0m\u001b[0m\n\u001b[1;32m    122\u001b[0m                          \u001b[0mstr\u001b[0m\u001b[0;34m(\u001b[0m\u001b[0mndim\u001b[0m\u001b[0;34m)\u001b[0m \u001b[0;34m+\u001b[0m \u001b[0;34m'. Full shape received: '\u001b[0m \u001b[0;34m+\u001b[0m\u001b[0;34m\u001b[0m\u001b[0;34m\u001b[0m\u001b[0m\n\u001b[0;32m--> 123\u001b[0;31m                          str(x.shape.as_list()))\n\u001b[0m\u001b[1;32m    124\u001b[0m     \u001b[0;32mif\u001b[0m \u001b[0mspec\u001b[0m\u001b[0;34m.\u001b[0m\u001b[0mmax_ndim\u001b[0m \u001b[0;32mis\u001b[0m \u001b[0;32mnot\u001b[0m \u001b[0;32mNone\u001b[0m\u001b[0;34m:\u001b[0m\u001b[0;34m\u001b[0m\u001b[0;34m\u001b[0m\u001b[0m\n\u001b[1;32m    125\u001b[0m       \u001b[0mndim\u001b[0m \u001b[0;34m=\u001b[0m \u001b[0mx\u001b[0m\u001b[0;34m.\u001b[0m\u001b[0mshape\u001b[0m\u001b[0;34m.\u001b[0m\u001b[0mndims\u001b[0m\u001b[0;34m\u001b[0m\u001b[0;34m\u001b[0m\u001b[0m\n",
      "\u001b[0;31mValueError\u001b[0m: Input 0 of layer conv3d is incompatible with the layer: expected ndim=5, found ndim=4. Full shape received: [None, 42, 78, 11]"
     ]
    }
   ],
   "source": [
    "model = Sequential()\n",
    "\n",
    "#first downsample/encode\n",
    "model.add(Conv3D(32, (3, 3, 3), input_shape=X.shape[1:], padding='same'))\n",
    "model.add(Activation('relu'))\n",
    "model.add(MaxPooling3D(pool_size=(2, 2, 2), padding='same'))  # output shape \n",
    "\n",
    "model.add(Conv3D(64, (3, 3, 3), padding='same'))             # output shape \n",
    "model.add(Activation('relu'))\n",
    "model.add(MaxPooling3D(pool_size=(2, 2, 2), padding='same'))  # output shape \n",
    "\n",
    "model.add(Conv3D(128, (3, 3, 3), padding='same'))             # output shape\n",
    "model.add(Activation('relu'))\n",
    "\n",
    "#Now upsample/decode\n",
    "model.add(Conv3D(128, (3, 3, 3), padding='same'))             # output shape \n",
    "model.add(Activation('relu'))\n",
    "model.add(UpSampling3D(size=(2, 2, 2)))                       # output shape\n",
    "\n",
    "model.add(Conv3D(64, (3, 3, 3), padding='same'))              # output shape \n",
    "model.add(Activation('relu')) \n",
    "model.add(UpSampling3D(size=(2, 2, 2)))                       # output shape \n",
    "\n",
    "model.add(Conv3D(1, (3, 3, 3), padding='same'))              # output shape\n",
    "model.add(Activation('relu'))\n",
    "\n",
    "\n",
    "model.compile(loss='mean_squared_error',\n",
    "              optimizer='adam',\n",
    "              metrics=['accuracy'])\n",
    "\n",
    "#fit the model - Batch size is how much to pass at once, don't want to pass all at once. \n",
    "#validation split - how much is train vs test data.\n",
    "model.fit(X, Y, batch_size=32, epochs=3, validation_split=0.15)"
   ]
  },
  {
   "cell_type": "markdown",
   "metadata": {},
   "source": [
    "##### NN attempt 2\n",
    "\n",
    "As Above fails with check, and concerns on whether I should be pooling and thus loosing some information, here I try using just conv layers - no pooling, so no longer autoencoder type set up.\n",
    "\n",
    "This runs, but results are diabolical....\n",
    "\n",
    "Number of inputs = 42*78*11*2 = 72072 inputs. This is huge..."
   ]
  },
  {
   "cell_type": "code",
   "execution_count": 21,
   "metadata": {},
   "outputs": [
    {
     "ename": "ValueError",
     "evalue": "Input 0 of layer conv3d_1 is incompatible with the layer: expected ndim=5, found ndim=4. Full shape received: [None, 42, 78, 11]",
     "output_type": "error",
     "traceback": [
      "\u001b[0;31m---------------------------------------------------------------------------\u001b[0m",
      "\u001b[0;31mValueError\u001b[0m                                Traceback (most recent call last)",
      "\u001b[0;32m<ipython-input-21-3a679895fe68>\u001b[0m in \u001b[0;36m<module>\u001b[0;34m\u001b[0m\n\u001b[1;32m      1\u001b[0m \u001b[0mmodel\u001b[0m \u001b[0;34m=\u001b[0m \u001b[0mSequential\u001b[0m\u001b[0;34m(\u001b[0m\u001b[0;34m)\u001b[0m\u001b[0;34m\u001b[0m\u001b[0;34m\u001b[0m\u001b[0m\n\u001b[1;32m      2\u001b[0m \u001b[0;34m\u001b[0m\u001b[0m\n\u001b[0;32m----> 3\u001b[0;31m \u001b[0mmodel\u001b[0m\u001b[0;34m.\u001b[0m\u001b[0madd\u001b[0m\u001b[0;34m(\u001b[0m\u001b[0mConv3D\u001b[0m\u001b[0;34m(\u001b[0m\u001b[0;36m72072\u001b[0m\u001b[0;34m,\u001b[0m \u001b[0;34m(\u001b[0m\u001b[0;36m3\u001b[0m\u001b[0;34m,\u001b[0m \u001b[0;36m3\u001b[0m\u001b[0;34m,\u001b[0m \u001b[0;36m3\u001b[0m\u001b[0;34m)\u001b[0m\u001b[0;34m,\u001b[0m \u001b[0minput_shape\u001b[0m\u001b[0;34m=\u001b[0m\u001b[0mX\u001b[0m\u001b[0;34m.\u001b[0m\u001b[0mshape\u001b[0m\u001b[0;34m[\u001b[0m\u001b[0;36m1\u001b[0m\u001b[0;34m:\u001b[0m\u001b[0;34m]\u001b[0m\u001b[0;34m,\u001b[0m \u001b[0mpadding\u001b[0m\u001b[0;34m=\u001b[0m\u001b[0;34m'same'\u001b[0m\u001b[0;34m)\u001b[0m\u001b[0;34m)\u001b[0m  \u001b[0;31m#no shape change with padding...\u001b[0m\u001b[0;34m\u001b[0m\u001b[0;34m\u001b[0m\u001b[0m\n\u001b[0m\u001b[1;32m      4\u001b[0m \u001b[0mmodel\u001b[0m\u001b[0;34m.\u001b[0m\u001b[0madd\u001b[0m\u001b[0;34m(\u001b[0m\u001b[0mActivation\u001b[0m\u001b[0;34m(\u001b[0m\u001b[0;34m'relu'\u001b[0m\u001b[0;34m)\u001b[0m\u001b[0;34m)\u001b[0m\u001b[0;34m\u001b[0m\u001b[0;34m\u001b[0m\u001b[0m\n\u001b[1;32m      5\u001b[0m \u001b[0mmodel\u001b[0m\u001b[0;34m.\u001b[0m\u001b[0madd\u001b[0m\u001b[0;34m(\u001b[0m\u001b[0mConv3D\u001b[0m\u001b[0;34m(\u001b[0m\u001b[0;36m72072\u001b[0m\u001b[0;34m,\u001b[0m \u001b[0;34m(\u001b[0m\u001b[0;36m5\u001b[0m\u001b[0;34m,\u001b[0m \u001b[0;36m5\u001b[0m\u001b[0;34m,\u001b[0m \u001b[0;36m5\u001b[0m\u001b[0;34m)\u001b[0m\u001b[0;34m,\u001b[0m \u001b[0minput_shape\u001b[0m\u001b[0;34m=\u001b[0m\u001b[0mX\u001b[0m\u001b[0;34m.\u001b[0m\u001b[0mshape\u001b[0m\u001b[0;34m[\u001b[0m\u001b[0;36m1\u001b[0m\u001b[0;34m:\u001b[0m\u001b[0;34m]\u001b[0m\u001b[0;34m,\u001b[0m \u001b[0mpadding\u001b[0m\u001b[0;34m=\u001b[0m\u001b[0;34m'same'\u001b[0m\u001b[0;34m)\u001b[0m\u001b[0;34m)\u001b[0m\u001b[0;34m\u001b[0m\u001b[0;34m\u001b[0m\u001b[0m\n",
      "\u001b[0;32m~/anaconda3/lib/python3.6/site-packages/tensorflow/python/training/checkpointable/base.py\u001b[0m in \u001b[0;36m_method_wrapper\u001b[0;34m(self, *args, **kwargs)\u001b[0m\n\u001b[1;32m    440\u001b[0m     \u001b[0mself\u001b[0m\u001b[0;34m.\u001b[0m\u001b[0m_setattr_tracking\u001b[0m \u001b[0;34m=\u001b[0m \u001b[0;32mFalse\u001b[0m  \u001b[0;31m# pylint: disable=protected-access\u001b[0m\u001b[0;34m\u001b[0m\u001b[0;34m\u001b[0m\u001b[0m\n\u001b[1;32m    441\u001b[0m     \u001b[0;32mtry\u001b[0m\u001b[0;34m:\u001b[0m\u001b[0;34m\u001b[0m\u001b[0;34m\u001b[0m\u001b[0m\n\u001b[0;32m--> 442\u001b[0;31m       \u001b[0mmethod\u001b[0m\u001b[0;34m(\u001b[0m\u001b[0mself\u001b[0m\u001b[0;34m,\u001b[0m \u001b[0;34m*\u001b[0m\u001b[0margs\u001b[0m\u001b[0;34m,\u001b[0m \u001b[0;34m**\u001b[0m\u001b[0mkwargs\u001b[0m\u001b[0;34m)\u001b[0m\u001b[0;34m\u001b[0m\u001b[0;34m\u001b[0m\u001b[0m\n\u001b[0m\u001b[1;32m    443\u001b[0m     \u001b[0;32mfinally\u001b[0m\u001b[0;34m:\u001b[0m\u001b[0;34m\u001b[0m\u001b[0;34m\u001b[0m\u001b[0m\n\u001b[1;32m    444\u001b[0m       \u001b[0mself\u001b[0m\u001b[0;34m.\u001b[0m\u001b[0m_setattr_tracking\u001b[0m \u001b[0;34m=\u001b[0m \u001b[0mprevious_value\u001b[0m  \u001b[0;31m# pylint: disable=protected-access\u001b[0m\u001b[0;34m\u001b[0m\u001b[0;34m\u001b[0m\u001b[0m\n",
      "\u001b[0;32m~/anaconda3/lib/python3.6/site-packages/tensorflow/python/keras/engine/sequential.py\u001b[0m in \u001b[0;36madd\u001b[0;34m(self, layer)\u001b[0m\n\u001b[1;32m    162\u001b[0m           \u001b[0;31m# and create the node connecting the current layer\u001b[0m\u001b[0;34m\u001b[0m\u001b[0;34m\u001b[0m\u001b[0;34m\u001b[0m\u001b[0m\n\u001b[1;32m    163\u001b[0m           \u001b[0;31m# to the input layer we just created.\u001b[0m\u001b[0;34m\u001b[0m\u001b[0;34m\u001b[0m\u001b[0;34m\u001b[0m\u001b[0m\n\u001b[0;32m--> 164\u001b[0;31m           \u001b[0mlayer\u001b[0m\u001b[0;34m(\u001b[0m\u001b[0mx\u001b[0m\u001b[0;34m)\u001b[0m\u001b[0;34m\u001b[0m\u001b[0;34m\u001b[0m\u001b[0m\n\u001b[0m\u001b[1;32m    165\u001b[0m           \u001b[0mset_inputs\u001b[0m \u001b[0;34m=\u001b[0m \u001b[0;32mTrue\u001b[0m\u001b[0;34m\u001b[0m\u001b[0;34m\u001b[0m\u001b[0m\n\u001b[1;32m    166\u001b[0m \u001b[0;34m\u001b[0m\u001b[0m\n",
      "\u001b[0;32m~/anaconda3/lib/python3.6/site-packages/tensorflow/python/keras/engine/base_layer.py\u001b[0m in \u001b[0;36m__call__\u001b[0;34m(self, inputs, *args, **kwargs)\u001b[0m\n\u001b[1;32m    536\u001b[0m       \u001b[0;32mif\u001b[0m \u001b[0;32mnot\u001b[0m \u001b[0mself\u001b[0m\u001b[0;34m.\u001b[0m\u001b[0mbuilt\u001b[0m\u001b[0;34m:\u001b[0m\u001b[0;34m\u001b[0m\u001b[0;34m\u001b[0m\u001b[0m\n\u001b[1;32m    537\u001b[0m         \u001b[0;31m# Build layer if applicable (if the `build` method has been overridden).\u001b[0m\u001b[0;34m\u001b[0m\u001b[0;34m\u001b[0m\u001b[0;34m\u001b[0m\u001b[0m\n\u001b[0;32m--> 538\u001b[0;31m         \u001b[0mself\u001b[0m\u001b[0;34m.\u001b[0m\u001b[0m_maybe_build\u001b[0m\u001b[0;34m(\u001b[0m\u001b[0minputs\u001b[0m\u001b[0;34m)\u001b[0m\u001b[0;34m\u001b[0m\u001b[0;34m\u001b[0m\u001b[0m\n\u001b[0m\u001b[1;32m    539\u001b[0m         \u001b[0;31m# We must set self.built since user defined build functions are not\u001b[0m\u001b[0;34m\u001b[0m\u001b[0;34m\u001b[0m\u001b[0;34m\u001b[0m\u001b[0m\n\u001b[1;32m    540\u001b[0m         \u001b[0;31m# constrained to set self.built.\u001b[0m\u001b[0;34m\u001b[0m\u001b[0;34m\u001b[0m\u001b[0;34m\u001b[0m\u001b[0m\n",
      "\u001b[0;32m~/anaconda3/lib/python3.6/site-packages/tensorflow/python/keras/engine/base_layer.py\u001b[0m in \u001b[0;36m_maybe_build\u001b[0;34m(self, inputs)\u001b[0m\n\u001b[1;32m   1589\u001b[0m     \u001b[0;31m# Check input assumptions set before layer building, e.g. input rank.\u001b[0m\u001b[0;34m\u001b[0m\u001b[0;34m\u001b[0m\u001b[0;34m\u001b[0m\u001b[0m\n\u001b[1;32m   1590\u001b[0m     input_spec.assert_input_compatibility(\n\u001b[0;32m-> 1591\u001b[0;31m         self.input_spec, inputs, self.name)\n\u001b[0m\u001b[1;32m   1592\u001b[0m     \u001b[0minput_list\u001b[0m \u001b[0;34m=\u001b[0m \u001b[0mnest\u001b[0m\u001b[0;34m.\u001b[0m\u001b[0mflatten\u001b[0m\u001b[0;34m(\u001b[0m\u001b[0minputs\u001b[0m\u001b[0;34m)\u001b[0m\u001b[0;34m\u001b[0m\u001b[0;34m\u001b[0m\u001b[0m\n\u001b[1;32m   1593\u001b[0m     \u001b[0;32mif\u001b[0m \u001b[0minput_list\u001b[0m \u001b[0;32mand\u001b[0m \u001b[0mself\u001b[0m\u001b[0;34m.\u001b[0m\u001b[0m_dtype\u001b[0m \u001b[0;32mis\u001b[0m \u001b[0;32mNone\u001b[0m\u001b[0;34m:\u001b[0m\u001b[0;34m\u001b[0m\u001b[0;34m\u001b[0m\u001b[0m\n",
      "\u001b[0;32m~/anaconda3/lib/python3.6/site-packages/tensorflow/python/keras/engine/input_spec.py\u001b[0m in \u001b[0;36massert_input_compatibility\u001b[0;34m(input_spec, inputs, layer_name)\u001b[0m\n\u001b[1;32m    121\u001b[0m                          \u001b[0;34m'expected ndim='\u001b[0m \u001b[0;34m+\u001b[0m \u001b[0mstr\u001b[0m\u001b[0;34m(\u001b[0m\u001b[0mspec\u001b[0m\u001b[0;34m.\u001b[0m\u001b[0mndim\u001b[0m\u001b[0;34m)\u001b[0m \u001b[0;34m+\u001b[0m \u001b[0;34m', found ndim='\u001b[0m \u001b[0;34m+\u001b[0m\u001b[0;34m\u001b[0m\u001b[0;34m\u001b[0m\u001b[0m\n\u001b[1;32m    122\u001b[0m                          \u001b[0mstr\u001b[0m\u001b[0;34m(\u001b[0m\u001b[0mndim\u001b[0m\u001b[0;34m)\u001b[0m \u001b[0;34m+\u001b[0m \u001b[0;34m'. Full shape received: '\u001b[0m \u001b[0;34m+\u001b[0m\u001b[0;34m\u001b[0m\u001b[0;34m\u001b[0m\u001b[0m\n\u001b[0;32m--> 123\u001b[0;31m                          str(x.shape.as_list()))\n\u001b[0m\u001b[1;32m    124\u001b[0m     \u001b[0;32mif\u001b[0m \u001b[0mspec\u001b[0m\u001b[0;34m.\u001b[0m\u001b[0mmax_ndim\u001b[0m \u001b[0;32mis\u001b[0m \u001b[0;32mnot\u001b[0m \u001b[0;32mNone\u001b[0m\u001b[0;34m:\u001b[0m\u001b[0;34m\u001b[0m\u001b[0;34m\u001b[0m\u001b[0m\n\u001b[1;32m    125\u001b[0m       \u001b[0mndim\u001b[0m \u001b[0;34m=\u001b[0m \u001b[0mx\u001b[0m\u001b[0;34m.\u001b[0m\u001b[0mshape\u001b[0m\u001b[0;34m.\u001b[0m\u001b[0mndims\u001b[0m\u001b[0;34m\u001b[0m\u001b[0;34m\u001b[0m\u001b[0m\n",
      "\u001b[0;31mValueError\u001b[0m: Input 0 of layer conv3d_1 is incompatible with the layer: expected ndim=5, found ndim=4. Full shape received: [None, 42, 78, 11]"
     ]
    }
   ],
   "source": [
    "model = Sequential()\n",
    "\n",
    "model.add(Conv3D(72072, (3, 3, 3), input_shape=X.shape[1:], padding='same'))  #no shape change with padding...\n",
    "model.add(Activation('relu'))\n",
    "model.add(Conv3D(72072, (5, 5, 5), input_shape=X.shape[1:], padding='same'))\n",
    "model.add(Activation('relu'))\n",
    "model.add(Conv3D(72072, (3, 3, 3), input_shape=X.shape[1:], padding='same'))\n",
    "model.add(Activation('linear'))\n",
    "\n",
    "model.compile(loss='mean_squared_error',\n",
    "              optimizer='adam',\n",
    "              metrics=['accuracy'])\n",
    "\n",
    "model.fit(X, Y, batch_size=128, epochs=3, validation_split=0.2)"
   ]
  },
  {
   "cell_type": "markdown",
   "metadata": {},
   "source": [
    "##### NN Attemmpt 3:\n",
    "\n",
    "Also tried with Dense layers instead...\n"
   ]
  },
  {
   "cell_type": "code",
   "execution_count": null,
   "metadata": {},
   "outputs": [],
   "source": [
    "model = Sequential()\n",
    "\n",
    "#'flatten' inputs\n",
    "model.add(Flatten())   # should be dim 960\n",
    "# define first hidden layer\n",
    "model.add(Dense(72072))\n",
    "model.add(Activation('relu'))\n",
    "#add second hidden layer \n",
    "model.add(Dense(72072))\n",
    "model.add(Activation('relu'))\n",
    "#add third layer - output payer\n",
    "model.add(Dense(72072))\n",
    "#ouput layer should have linear activation function suitable for a regression problem\n",
    "model.add(Activation('linear'))\n",
    "#reshape\n",
    "model.add(Reshape(Y.shape[1:]))\n",
    "\n",
    "\n",
    "model.compile(loss='mean_squared_error',\n",
    "              optimizer='adam',\n",
    "              metrics=['accuracy'])\n",
    "\n",
    "model.fit(X, Y, batch_size=128, epochs=3, validation_split=0.2)"
   ]
  },
  {
   "cell_type": "markdown",
   "metadata": {},
   "source": [
    "##### NN Attempt 4\n",
    "\n",
    "A combination of Conv and dense layers..."
   ]
  },
  {
   "cell_type": "code",
   "execution_count": null,
   "metadata": {},
   "outputs": [],
   "source": [
    "model = Sequential()\n",
    "\n",
    "model.add(Conv3D(72072, (3, 3,3), input_shape=X.shape[1:], padding='same'))\n",
    "model.add(Activation('relu'))\n",
    "\n",
    "model.add(Conv3D(72072, (5, 5, 5), padding='same'))\n",
    "model.add(Activation('relu'))\n",
    "\n",
    "model.add(Conv3D(72072, (7, 7, 7), padding='same'))\n",
    "model.add(Activation('relu'))\n",
    "\n",
    "model.add(Flatten())\n",
    "model.add(Dense(72072))\n",
    "#last layer should have linear activation function suitable for a regression problem\n",
    "model.add(Activation('linear'))\n",
    "#reshape\n",
    "model.add(Reshape(Y.shape[1:]))\n",
    "\n",
    "model.compile(loss='mean_squared_error',\n",
    "              optimizer='adam',\n",
    "              metrics=['accuracy'])\n",
    "\n",
    "model.fit(X, Y, batch_size=128, epochs=3, validation_split=0.2)"
   ]
  },
  {
   "cell_type": "code",
   "execution_count": null,
   "metadata": {},
   "outputs": [],
   "source": []
  }
 ],
 "metadata": {
  "kernelspec": {
   "display_name": "Python 3",
   "language": "python",
   "name": "python3"
  },
  "language_info": {
   "codemirror_mode": {
    "name": "ipython",
    "version": 3
   },
   "file_extension": ".py",
   "mimetype": "text/x-python",
   "name": "python",
   "nbconvert_exporter": "python",
   "pygments_lexer": "ipython3",
   "version": "3.6.8"
  }
 },
 "nbformat": 4,
 "nbformat_minor": 2
}
