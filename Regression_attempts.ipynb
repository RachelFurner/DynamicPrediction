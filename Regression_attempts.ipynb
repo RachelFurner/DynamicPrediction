{
 "cells": [
  {
   "cell_type": "code",
   "execution_count": 1,
   "metadata": {},
   "outputs": [],
   "source": [
    "from sklearn import linear_model\n",
    "import numpy as np\n",
    "import os\n",
    "import xarray as xr\n",
    "import matplotlib.pyplot as plt"
   ]
  },
  {
   "cell_type": "code",
   "execution_count": 2,
   "metadata": {},
   "outputs": [
    {
     "data": {
      "text/plain": [
       "Lasso(alpha=0.1, copy_X=True, fit_intercept=True, max_iter=1000,\n",
       "      normalize=False, positive=False, precompute=False, random_state=None,\n",
       "      selection='cyclic', tol=0.0001, warm_start=False)"
      ]
     },
     "execution_count": 2,
     "metadata": {},
     "output_type": "execute_result"
    }
   ],
   "source": [
    "clf= linear_model.Lasso(alpha=0.1)\n",
    "\n",
    "X = np.array([[0,0],[1,1],[2,2]])\n",
    "Y = np.array([0,1,2])\n",
    "\n",
    "clf.fit(X,Y)"
   ]
  },
  {
   "cell_type": "code",
   "execution_count": 3,
   "metadata": {},
   "outputs": [
    {
     "name": "stdout",
     "output_type": "stream",
     "text": [
      "[0.85 0.  ]\n",
      "0.15000000000000002\n"
     ]
    }
   ],
   "source": [
    "print(clf.coef_)\n",
    "print(clf.intercept_)"
   ]
  },
  {
   "cell_type": "code",
   "execution_count": 4,
   "metadata": {},
   "outputs": [],
   "source": [
    "# Now try it with my data!\n",
    "\n",
    "# for now focus on a single point...\n",
    "\n",
    "z=0\n",
    "x=5  #(11 points in x dir)\n",
    "y=4   #(78 points in y dir)\n",
    "\n",
    "\n",
    "StepSize = 10 # how many output steps to predict over"
   ]
  },
  {
   "cell_type": "code",
   "execution_count": 5,
   "metadata": {},
   "outputs": [
    {
     "name": "stdout",
     "output_type": "stream",
     "text": [
      "['/data/oceans_output/open/racfur/4500yr_Windx0.50/state_cat.nc']\n"
     ]
    }
   ],
   "source": [
    "DIR = '/data/oceans_output/open/racfur'\n",
    "exp_list = ['4500yr_Windx0.50']\n",
    "file_list =[]\n",
    "for exp in exp_list:\n",
    "    #filenames = os.listdir(os.path.join(DIR,exp))\n",
    "    filenames = ['state_cat.nc']\n",
    "    for file in filenames:\n",
    "        file_list.append(os.path.join(DIR,exp,file))\n",
    "\n",
    "print(file_list)"
   ]
  },
  {
   "cell_type": "code",
   "execution_count": null,
   "metadata": {},
   "outputs": [],
   "source": [
    "#print(file_list[0])\n",
    "ds   = xr.open_dataset(file_list[0])\n",
    "#print(ds)"
   ]
  },
  {
   "cell_type": "code",
   "execution_count": null,
   "metadata": {},
   "outputs": [],
   "source": [
    "#Plot a timeseries of the various potential inputs \n",
    "# here plotting for a single grid cell. Plotting Temp for set grid point and \n",
    "# an 8 cell halo. Aim is to use this to predict Temp at a later time step\n",
    "\n",
    "fig1 = plt.figure()\n",
    "\n",
    "ds.Temp.isel(X=x-1,Y=y+1,Z=z).plot(label=('x-1,y+1'))\n",
    "ds.Temp.isel(X=x  ,Y=y+1,Z=z).plot(label=('x  ,y+1'))\n",
    "ds.Temp.isel(X=x+1,Y=y+1,Z=z).plot(label=('x+1,y+1'))\n",
    "ds.Temp.isel(X=x-1,Y=y  ,Z=z).plot(label=('x-1,y  '))\n",
    "ds.Temp.isel(X=x  ,Y=y  ,Z=z).plot(label=('x  ,y  '))\n",
    "ds.Temp.isel(X=x+1,Y=y  ,Z=z).plot(label=('x+1,y  '))\n",
    "ds.Temp.isel(X=x-1,Y=y-1,Z=z).plot(label=('x-1,y-1'))\n",
    "ds.Temp.isel(X=x  ,Y=y-1,Z=z).plot(label=('x  ,y-1'))\n",
    "ds.Temp.isel(X=x+1,Y=y-1,Z=z).plot(label=('x+1,y-1'))\n",
    "\n",
    "\n",
    "fig1.legend()\n"
   ]
  },
  {
   "cell_type": "code",
   "execution_count": null,
   "metadata": {},
   "outputs": [],
   "source": [
    "inputs = []\n",
    "outputs = []\n",
    "\n",
    "for time in range(0, len(ds.T.data)-StepSize, 50):\n",
    "    for x in range(0,10,3):\n",
    "        for y in range(0,77,3):\n",
    "           inputs.append([ds.Temp.isel(T=time,X=x-1,Y=y+1,Z=z),\n",
    "                          ds.Temp.isel(T=time,X=x  ,Y=y+1,Z=z),\n",
    "                          ds.Temp.isel(T=time,X=x+1,Y=y+1,Z=z),\n",
    "                          ds.Temp.isel(T=time,X=x-1,Y=y  ,Z=z),\n",
    "                          ds.Temp.isel(T=time,X=x  ,Y=y  ,Z=z),\n",
    "                          ds.Temp.isel(T=time,X=x+1,Y=y  ,Z=z),\n",
    "                          ds.Temp.isel(T=time,X=x-1,Y=y-1,Z=z),\n",
    "                          ds.Temp.isel(T=time,X=x  ,Y=y-1,Z=z),\n",
    "                          ds.Temp.isel(T=time,X=x+1,Y=y-1,Z=z)])               \n",
    "           outputs.append([ds.Temp.isel(T=time+StepSize,X=x,Y=y,Z=z)])\n",
    "    \n",
    "inputs=np.asarray(inputs)\n",
    "outputs=np.asarray(outputs)\n",
    "\n"
   ]
  },
  {
   "cell_type": "code",
   "execution_count": null,
   "metadata": {},
   "outputs": [],
   "source": [
    "print(inputs.shape)\n",
    "print(outputs.shape)\n",
    "\n",
    "#Split data into training and test data and then normalise (normalise all based on training data only)\n"
   ]
  },
  {
   "cell_type": "code",
   "execution_count": null,
   "metadata": {},
   "outputs": [],
   "source": [
    "# Fit a model....\n",
    "\n",
    "model= linear_model.Lasso(alpha=0.1)\n",
    "\n",
    "model.fit(inputs,outputs)"
   ]
  },
  {
   "cell_type": "code",
   "execution_count": null,
   "metadata": {},
   "outputs": [],
   "source": [
    "print(model.coef_)\n",
    "print(model.intercept_)"
   ]
  },
  {
   "cell_type": "code",
   "execution_count": null,
   "metadata": {},
   "outputs": [],
   "source": [
    "model.predict([[35, 35,35,35,35,35,35,35,35]])"
   ]
  },
  {
   "cell_type": "code",
   "execution_count": null,
   "metadata": {},
   "outputs": [],
   "source": []
  }
 ],
 "metadata": {
  "kernelspec": {
   "display_name": "Python [conda env:RF_environment]",
   "language": "python",
   "name": "conda-env-RF_environment-py"
  },
  "language_info": {
   "codemirror_mode": {
    "name": "ipython",
    "version": 3
   },
   "file_extension": ".py",
   "mimetype": "text/x-python",
   "name": "python",
   "nbconvert_exporter": "python",
   "pygments_lexer": "ipython3",
   "version": "3.6.8"
  }
 },
 "nbformat": 4,
 "nbformat_minor": 2
}
